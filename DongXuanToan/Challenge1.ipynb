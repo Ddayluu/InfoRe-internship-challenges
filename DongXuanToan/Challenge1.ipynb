{
  "nbformat": 4,
  "nbformat_minor": 0,
  "metadata": {
    "colab": {
      "name": "Challenge1.ipynb",
      "version": "0.3.2",
      "provenance": [],
      "collapsed_sections": []
    },
    "kernelspec": {
      "name": "python3",
      "display_name": "Python 3"
    },
    "accelerator": "GPU"
  },
  "cells": [
    {
      "metadata": {
        "id": "ytq7PCd9OJp2",
        "colab_type": "code",
        "outputId": "63039a06-bc27-4592-b027-921c1134a927",
        "colab": {
          "base_uri": "https://localhost:8080/",
          "height": 726
        }
      },
      "cell_type": "code",
      "source": [
        "# Get Dataset\n",
        "!git clone https://github.com/thatbrguy/Dropbox-Uploader.git\n",
        "%cd Dropbox-Uploader\n",
        "!echo \"WCOL1o0mlMAAAAAAAAAUkI3btdYWm3qFFxOW5cB_dlGVt1DGoFHFNNpYNOGud2Xt\" > token.txt\n",
        "!bash dropbox_uploader.sh"
      ],
      "execution_count": 16,
      "outputs": [
        {
          "output_type": "stream",
          "text": [
            "Cloning into 'Dropbox-Uploader'...\n",
            "remote: Enumerating objects: 951, done.\u001b[K\n",
            "Receiving objects:   0% (1/951)   \rReceiving objects:   1% (10/951)   \rReceiving objects:   2% (20/951)   \rReceiving objects:   3% (29/951)   \rReceiving objects:   4% (39/951)   \rReceiving objects:   5% (48/951)   \rReceiving objects:   6% (58/951)   \rReceiving objects:   7% (67/951)   \rReceiving objects:   8% (77/951)   \rReceiving objects:   9% (86/951)   \rReceiving objects:  10% (96/951)   \rReceiving objects:  11% (105/951)   \rReceiving objects:  12% (115/951)   \rReceiving objects:  13% (124/951)   \rReceiving objects:  14% (134/951)   \rReceiving objects:  15% (143/951)   \rReceiving objects:  16% (153/951)   \rReceiving objects:  17% (162/951)   \rReceiving objects:  18% (172/951)   \rReceiving objects:  19% (181/951)   \rReceiving objects:  20% (191/951)   \rReceiving objects:  21% (200/951)   \rReceiving objects:  22% (210/951)   \rReceiving objects:  23% (219/951)   \rReceiving objects:  24% (229/951)   \rReceiving objects:  25% (238/951)   \rReceiving objects:  26% (248/951)   \rReceiving objects:  27% (257/951)   \rReceiving objects:  28% (267/951)   \rReceiving objects:  29% (276/951)   \rReceiving objects:  30% (286/951)   \rReceiving objects:  31% (295/951)   \rReceiving objects:  32% (305/951)   \rReceiving objects:  33% (314/951)   \rReceiving objects:  34% (324/951)   \rReceiving objects:  35% (333/951)   \rReceiving objects:  36% (343/951)   \rReceiving objects:  37% (352/951)   \rReceiving objects:  38% (362/951)   \rReceiving objects:  39% (371/951)   \rReceiving objects:  40% (381/951)   \rReceiving objects:  41% (390/951)   \rReceiving objects:  42% (400/951)   \rReceiving objects:  43% (409/951)   \rReceiving objects:  44% (419/951)   \rReceiving objects:  45% (428/951)   \rReceiving objects:  46% (438/951)   \rReceiving objects:  47% (447/951)   \rReceiving objects:  48% (457/951)   \rReceiving objects:  49% (466/951)   \rReceiving objects:  50% (476/951)   \rReceiving objects:  51% (486/951)   \rReceiving objects:  52% (495/951)   \rReceiving objects:  53% (505/951)   \rReceiving objects:  54% (514/951)   \rReceiving objects:  55% (524/951)   \rReceiving objects:  56% (533/951)   \rReceiving objects:  57% (543/951)   \rReceiving objects:  58% (552/951)   \rReceiving objects:  59% (562/951)   \rReceiving objects:  60% (571/951)   \rReceiving objects:  61% (581/951)   \rReceiving objects:  62% (590/951)   \rReceiving objects:  63% (600/951)   \rReceiving objects:  64% (609/951)   \rReceiving objects:  65% (619/951)   \rReceiving objects:  66% (628/951)   \rReceiving objects:  67% (638/951)   \rReceiving objects:  68% (647/951)   \rReceiving objects:  69% (657/951)   \rReceiving objects:  70% (666/951)   \rReceiving objects:  71% (676/951)   \rReceiving objects:  72% (685/951)   \rReceiving objects:  73% (695/951)   \rReceiving objects:  74% (704/951)   \rReceiving objects:  75% (714/951)   \rReceiving objects:  76% (723/951)   \rReceiving objects:  77% (733/951)   \rReceiving objects:  78% (742/951)   \rremote: Total 951 (delta 0), reused 0 (delta 0), pack-reused 951\u001b[K\n",
            "Receiving objects:  79% (752/951)   \rReceiving objects:  80% (761/951)   \rReceiving objects:  81% (771/951)   \rReceiving objects:  82% (780/951)   \rReceiving objects:  83% (790/951)   \rReceiving objects:  84% (799/951)   \rReceiving objects:  85% (809/951)   \rReceiving objects:  86% (818/951)   \rReceiving objects:  87% (828/951)   \rReceiving objects:  88% (837/951)   \rReceiving objects:  89% (847/951)   \rReceiving objects:  90% (856/951)   \rReceiving objects:  91% (866/951)   \rReceiving objects:  92% (875/951)   \rReceiving objects:  93% (885/951)   \rReceiving objects:  94% (894/951)   \rReceiving objects:  95% (904/951)   \rReceiving objects:  96% (913/951)   \rReceiving objects:  97% (923/951)   \rReceiving objects:  98% (932/951)   \rReceiving objects:  99% (942/951)   \rReceiving objects: 100% (951/951)   \rReceiving objects: 100% (951/951), 309.20 KiB | 3.12 MiB/s, done.\n",
            "Resolving deltas:   0% (0/505)   \rResolving deltas:   5% (26/505)   \rResolving deltas:   6% (31/505)   \rResolving deltas:   9% (48/505)   \rResolving deltas:  11% (58/505)   \rResolving deltas:  14% (75/505)   \rResolving deltas:  29% (148/505)   \rResolving deltas:  36% (184/505)   \rResolving deltas:  37% (187/505)   \rResolving deltas:  41% (209/505)   \rResolving deltas:  42% (216/505)   \rResolving deltas:  49% (249/505)   \rResolving deltas:  52% (267/505)   \rResolving deltas:  54% (277/505)   \rResolving deltas:  60% (303/505)   \rResolving deltas:  61% (311/505)   \rResolving deltas:  63% (319/505)   \rResolving deltas:  64% (325/505)   \rResolving deltas:  70% (355/505)   \rResolving deltas:  71% (359/505)   \rResolving deltas:  72% (364/505)   \rResolving deltas:  73% (369/505)   \rResolving deltas:  74% (376/505)   \rResolving deltas:  75% (380/505)   \rResolving deltas:  76% (386/505)   \rResolving deltas:  80% (404/505)   \rResolving deltas:  85% (432/505)   \rResolving deltas:  88% (446/505)   \rResolving deltas: 100% (505/505)   \rResolving deltas: 100% (505/505), done.\n",
            "/content/Dropbox-Uploader/Dropbox-Uploader\n",
            "Dropbox Uploader v1.0\n",
            "Andrea Fabrizi - andrea.fabrizi@gmail.com\n",
            "\n",
            "Usage: dropbox_uploader.sh [PARAMETERS] COMMAND...\n",
            "\n",
            "Commands:\n",
            "\t upload   <LOCAL_FILE/DIR ...>  <REMOTE_FILE/DIR>\n",
            "\t download <REMOTE_FILE/DIR> [LOCAL_FILE/DIR]\n",
            "\t delete   <REMOTE_FILE/DIR>\n",
            "\t move     <REMOTE_FILE/DIR> <REMOTE_FILE/DIR>\n",
            "\t copy     <REMOTE_FILE/DIR> <REMOTE_FILE/DIR>\n",
            "\t mkdir    <REMOTE_DIR>\n",
            "\t list     [REMOTE_DIR]\n",
            "\t monitor  [REMOTE_DIR] [TIMEOUT]\n",
            "\t share    <REMOTE_FILE>\n",
            "\t saveurl  <URL> <REMOTE_DIR>\n",
            "\t search   <QUERY>\n",
            "\t info\n",
            "\t space\n",
            "\t unlink\n",
            "\n",
            "Optional parameters:\n",
            "\t-f <FILENAME> Load the configuration file from a specific file\n",
            "\t-s            Skip already existing files when download/upload. Default: Overwrite\n",
            "\t-d            Enable DEBUG mode\n",
            "\t-q            Quiet mode. Don't show messages\n",
            "\t-h            Show file sizes in human readable format\n",
            "\t-p            Show cURL progress meter\n",
            "\t-k            Doesn't check for SSL certificates (insecure)\n",
            "\t-x            Ignores/excludes directories or files from syncing. -x filename -x directoryname. example: -x .git\n",
            "\n",
            "For more info and examples, please see the README file.\n",
            "\n"
          ],
          "name": "stdout"
        }
      ]
    },
    {
      "metadata": {
        "id": "Q1z6KmcROLqO",
        "colab_type": "code",
        "outputId": "4b1d865f-7c7c-4d2b-f2b9-d14dab3c346d",
        "colab": {
          "base_uri": "https://localhost:8080/",
          "height": 35
        }
      },
      "cell_type": "code",
      "source": [
        "! ./dropbox_uploader.sh download dataset.zip"
      ],
      "execution_count": 18,
      "outputs": [
        {
          "output_type": "stream",
          "text": [
            " > Downloading \"/dataset.zip\" to \"/content/Dropbox-Uploader/Dropbox-Uploader/dataset.zip\"... DONE\n"
          ],
          "name": "stdout"
        }
      ]
    },
    {
      "metadata": {
        "id": "6A1MwgDIOW3K",
        "colab_type": "code",
        "outputId": "3d31a399-761e-4d50-bf80-1eb6a783433c",
        "colab": {
          "base_uri": "https://localhost:8080/",
          "height": 35
        }
      },
      "cell_type": "code",
      "source": [
        "from keras.applications.vgg16 import VGG16\n",
        "from keras.preprocessing import image\n",
        "from keras.applications.vgg16 import preprocess_input\n",
        "from keras.layers import *\n",
        "from keras.models import *\n",
        "from keras import optimizers\n",
        "import keras\n",
        "import numpy as np\n",
        "import cv2\n",
        "from sklearn.model_selection import train_test_split\n",
        "import os\n",
        "!pip install Zipfile36\n",
        "import zipfile"
      ],
      "execution_count": 19,
      "outputs": [
        {
          "output_type": "stream",
          "text": [
            "Requirement already satisfied: Zipfile36 in /usr/local/lib/python3.6/dist-packages (0.1.3)\n"
          ],
          "name": "stdout"
        }
      ]
    },
    {
      "metadata": {
        "id": "EuKSFMf4OiPm",
        "colab_type": "code",
        "outputId": "2eb4b8c7-638b-42f0-d2c6-39ea5d838c71",
        "colab": {
          "base_uri": "https://localhost:8080/",
          "height": 35
        }
      },
      "cell_type": "code",
      "source": [
        "#Extract dataset\n",
        "local_zip='./dataset.zip'\n",
        "zip_ref = zipfile.ZipFile(local_zip, 'r')\n",
        "zip_ref.extractall('./dataset')\n",
        "zip_ref.close()\n",
        "%cd /content/Dropbox-Uploader/dataset"
      ],
      "execution_count": 20,
      "outputs": [
        {
          "output_type": "stream",
          "text": [
            "/content/Dropbox-Uploader/dataset\n"
          ],
          "name": "stdout"
        }
      ]
    },
    {
      "metadata": {
        "id": "CA_Iqf1ZOl-k",
        "colab_type": "code",
        "colab": {}
      },
      "cell_type": "code",
      "source": [
        "# Read data\n",
        "dog=['bullmastiff', 'chowchow', 'pug', 'maltese', 'huskysibir', 'dachshund', 'dalmatian', 'corgi', 'chihuahua', 'yorkshire']\n",
        "X_train=[]\n",
        "y_train=[]\n",
        "for index in range(len(dog)):\n",
        "  for i in os.listdir('./'+dog[index]):\n",
        "    X_train.append(cv2.resize(cv2.imread('./'+dog[index]+'/'+i),(224,224)))\n",
        "    y_train.append(index)"
      ],
      "execution_count": 0,
      "outputs": []
    },
    {
      "metadata": {
        "id": "YagXbWl9Ops6",
        "colab_type": "code",
        "colab": {}
      },
      "cell_type": "code",
      "source": [
        "# Process data\n",
        "X_train,X_val,y_train,y_val=train_test_split(X_train,y_train,test_size=0.2,random_state=42)\n",
        "y_train=keras.utils.to_categorical(y_train,10)\n",
        "y_val=keras.utils.to_categorical(y_val,10)\n",
        "X_train=np.array(X_train)\n",
        "X_val=np.array(X_val)\n",
        "y_train=np.array(y_train)\n",
        "y_val=np.array(y_val)\n",
        "X_train=X_train.astype('float16')\n",
        "X_val=X_val.astype('float16')\n",
        "X_train=X_train/255\n",
        "X_val=X_val/255"
      ],
      "execution_count": 0,
      "outputs": []
    },
    {
      "metadata": {
        "id": "PJ7AQkp1Oqf3",
        "colab_type": "code",
        "outputId": "846f3aa6-6fb3-4bb0-bf76-48b6f5122eb9",
        "colab": {
          "base_uri": "https://localhost:8080/",
          "height": 910
        }
      },
      "cell_type": "code",
      "source": [
        "base_model = VGG16(weights='imagenet', input_shape=(224,224,3),include_top=False)\n",
        "base_model.summary()"
      ],
      "execution_count": 0,
      "outputs": [
        {
          "output_type": "stream",
          "text": [
            "WARNING:tensorflow:From /usr/local/lib/python3.6/dist-packages/tensorflow/python/framework/op_def_library.py:263: colocate_with (from tensorflow.python.framework.ops) is deprecated and will be removed in a future version.\n",
            "Instructions for updating:\n",
            "Colocations handled automatically by placer.\n",
            "_________________________________________________________________\n",
            "Layer (type)                 Output Shape              Param #   \n",
            "=================================================================\n",
            "input_1 (InputLayer)         (None, 224, 224, 3)       0         \n",
            "_________________________________________________________________\n",
            "block1_conv1 (Conv2D)        (None, 224, 224, 64)      1792      \n",
            "_________________________________________________________________\n",
            "block1_conv2 (Conv2D)        (None, 224, 224, 64)      36928     \n",
            "_________________________________________________________________\n",
            "block1_pool (MaxPooling2D)   (None, 112, 112, 64)      0         \n",
            "_________________________________________________________________\n",
            "block2_conv1 (Conv2D)        (None, 112, 112, 128)     73856     \n",
            "_________________________________________________________________\n",
            "block2_conv2 (Conv2D)        (None, 112, 112, 128)     147584    \n",
            "_________________________________________________________________\n",
            "block2_pool (MaxPooling2D)   (None, 56, 56, 128)       0         \n",
            "_________________________________________________________________\n",
            "block3_conv1 (Conv2D)        (None, 56, 56, 256)       295168    \n",
            "_________________________________________________________________\n",
            "block3_conv2 (Conv2D)        (None, 56, 56, 256)       590080    \n",
            "_________________________________________________________________\n",
            "block3_conv3 (Conv2D)        (None, 56, 56, 256)       590080    \n",
            "_________________________________________________________________\n",
            "block3_pool (MaxPooling2D)   (None, 28, 28, 256)       0         \n",
            "_________________________________________________________________\n",
            "block4_conv1 (Conv2D)        (None, 28, 28, 512)       1180160   \n",
            "_________________________________________________________________\n",
            "block4_conv2 (Conv2D)        (None, 28, 28, 512)       2359808   \n",
            "_________________________________________________________________\n",
            "block4_conv3 (Conv2D)        (None, 28, 28, 512)       2359808   \n",
            "_________________________________________________________________\n",
            "block4_pool (MaxPooling2D)   (None, 14, 14, 512)       0         \n",
            "_________________________________________________________________\n",
            "block5_conv1 (Conv2D)        (None, 14, 14, 512)       2359808   \n",
            "_________________________________________________________________\n",
            "block5_conv2 (Conv2D)        (None, 14, 14, 512)       2359808   \n",
            "_________________________________________________________________\n",
            "block5_conv3 (Conv2D)        (None, 14, 14, 512)       2359808   \n",
            "_________________________________________________________________\n",
            "block5_pool (MaxPooling2D)   (None, 7, 7, 512)         0         \n",
            "=================================================================\n",
            "Total params: 14,714,688\n",
            "Trainable params: 14,714,688\n",
            "Non-trainable params: 0\n",
            "_________________________________________________________________\n"
          ],
          "name": "stdout"
        }
      ]
    },
    {
      "metadata": {
        "id": "OfbaS0hoPi0S",
        "colab_type": "code",
        "outputId": "e4011223-f29f-4de9-f08c-a8fd9ab109c9",
        "colab": {
          "base_uri": "https://localhost:8080/",
          "height": 872
        }
      },
      "cell_type": "code",
      "source": [
        "add_model = Sequential()\n",
        "add_model.add(Flatten(input_shape=base_model.output_shape[1:]))\n",
        "add_model.add(Dense(1024, activation='relu'))\n",
        "add_model.add(Dense(256, activation='relu'))\n",
        "add_model.add(Dense(10, activation='softmax'))\n",
        "model = Model(inputs=base_model.input, outputs=add_model(base_model.output))\n",
        "model.compile(loss='categorical_crossentropy', optimizer=optimizers.SGD(lr=1e-4, momentum=0.9),\n",
        "              metrics=['accuracy'])\n",
        "\n",
        "model.summary()"
      ],
      "execution_count": 0,
      "outputs": [
        {
          "output_type": "stream",
          "text": [
            "_________________________________________________________________\n",
            "Layer (type)                 Output Shape              Param #   \n",
            "=================================================================\n",
            "input_1 (InputLayer)         (None, 224, 224, 3)       0         \n",
            "_________________________________________________________________\n",
            "block1_conv1 (Conv2D)        (None, 224, 224, 64)      1792      \n",
            "_________________________________________________________________\n",
            "block1_conv2 (Conv2D)        (None, 224, 224, 64)      36928     \n",
            "_________________________________________________________________\n",
            "block1_pool (MaxPooling2D)   (None, 112, 112, 64)      0         \n",
            "_________________________________________________________________\n",
            "block2_conv1 (Conv2D)        (None, 112, 112, 128)     73856     \n",
            "_________________________________________________________________\n",
            "block2_conv2 (Conv2D)        (None, 112, 112, 128)     147584    \n",
            "_________________________________________________________________\n",
            "block2_pool (MaxPooling2D)   (None, 56, 56, 128)       0         \n",
            "_________________________________________________________________\n",
            "block3_conv1 (Conv2D)        (None, 56, 56, 256)       295168    \n",
            "_________________________________________________________________\n",
            "block3_conv2 (Conv2D)        (None, 56, 56, 256)       590080    \n",
            "_________________________________________________________________\n",
            "block3_conv3 (Conv2D)        (None, 56, 56, 256)       590080    \n",
            "_________________________________________________________________\n",
            "block3_pool (MaxPooling2D)   (None, 28, 28, 256)       0         \n",
            "_________________________________________________________________\n",
            "block4_conv1 (Conv2D)        (None, 28, 28, 512)       1180160   \n",
            "_________________________________________________________________\n",
            "block4_conv2 (Conv2D)        (None, 28, 28, 512)       2359808   \n",
            "_________________________________________________________________\n",
            "block4_conv3 (Conv2D)        (None, 28, 28, 512)       2359808   \n",
            "_________________________________________________________________\n",
            "block4_pool (MaxPooling2D)   (None, 14, 14, 512)       0         \n",
            "_________________________________________________________________\n",
            "block5_conv1 (Conv2D)        (None, 14, 14, 512)       2359808   \n",
            "_________________________________________________________________\n",
            "block5_conv2 (Conv2D)        (None, 14, 14, 512)       2359808   \n",
            "_________________________________________________________________\n",
            "block5_conv3 (Conv2D)        (None, 14, 14, 512)       2359808   \n",
            "_________________________________________________________________\n",
            "block5_pool (MaxPooling2D)   (None, 7, 7, 512)         0         \n",
            "_________________________________________________________________\n",
            "sequential_1 (Sequential)    (None, 10)                25956106  \n",
            "=================================================================\n",
            "Total params: 40,670,794\n",
            "Trainable params: 40,670,794\n",
            "Non-trainable params: 0\n",
            "_________________________________________________________________\n"
          ],
          "name": "stdout"
        }
      ]
    },
    {
      "metadata": {
        "id": "2JBIRzsuPwmU",
        "colab_type": "code",
        "outputId": "a3676ebd-2554-4820-cbdd-30b54b1f0d01",
        "colab": {
          "base_uri": "https://localhost:8080/",
          "height": 201
        }
      },
      "cell_type": "code",
      "source": [
        "model.fit(X_train, y_train, batch_size=32,\n",
        "              nb_epoch=1,validation_data=(X_val, y_val), shuffle=True)"
      ],
      "execution_count": 0,
      "outputs": [
        {
          "output_type": "stream",
          "text": [
            "WARNING:tensorflow:From /usr/local/lib/python3.6/dist-packages/tensorflow/python/ops/math_ops.py:3066: to_int32 (from tensorflow.python.ops.math_ops) is deprecated and will be removed in a future version.\n",
            "Instructions for updating:\n",
            "Use tf.cast instead.\n"
          ],
          "name": "stdout"
        },
        {
          "output_type": "stream",
          "text": [
            "/usr/local/lib/python3.6/dist-packages/ipykernel_launcher.py:2: UserWarning: The `nb_epoch` argument in `fit` has been renamed `epochs`.\n",
            "  \n"
          ],
          "name": "stderr"
        },
        {
          "output_type": "stream",
          "text": [
            "Train on 9708 samples, validate on 2427 samples\n",
            "Epoch 1/1\n",
            "9708/9708 [==============================] - 295s 30ms/step - loss: 1.1988 - acc: 0.5876 - val_loss: 0.5439 - val_acc: 0.8179\n"
          ],
          "name": "stdout"
        },
        {
          "output_type": "execute_result",
          "data": {
            "text/plain": [
              "<keras.callbacks.History at 0x7ff41382a7b8>"
            ]
          },
          "metadata": {
            "tags": []
          },
          "execution_count": 9
        }
      ]
    },
    {
      "metadata": {
        "id": "5bwQsq8FP1UW",
        "colab_type": "code",
        "outputId": "64d2a68f-32ff-42b7-c5ed-07f8469b8165",
        "colab": {
          "base_uri": "https://localhost:8080/",
          "height": 183
        }
      },
      "cell_type": "code",
      "source": [
        "model.fit(X_train, y_train, batch_size=32,\n",
        "              nb_epoch=2,validation_data=(X_val, y_val), shuffle=True)"
      ],
      "execution_count": 0,
      "outputs": [
        {
          "output_type": "stream",
          "text": [
            "/usr/local/lib/python3.6/dist-packages/ipykernel_launcher.py:2: UserWarning: The `nb_epoch` argument in `fit` has been renamed `epochs`.\n",
            "  \n"
          ],
          "name": "stderr"
        },
        {
          "output_type": "stream",
          "text": [
            "Train on 9708 samples, validate on 2427 samples\n",
            "Epoch 1/2\n",
            "9708/9708 [==============================] - 280s 29ms/step - loss: 0.3985 - acc: 0.8678 - val_loss: 0.4112 - val_acc: 0.8628\n",
            "Epoch 2/2\n",
            "9708/9708 [==============================] - 281s 29ms/step - loss: 0.2387 - acc: 0.9227 - val_loss: 0.4109 - val_acc: 0.8719\n"
          ],
          "name": "stdout"
        },
        {
          "output_type": "execute_result",
          "data": {
            "text/plain": [
              "<keras.callbacks.History at 0x7ff41b09b128>"
            ]
          },
          "metadata": {
            "tags": []
          },
          "execution_count": 10
        }
      ]
    },
    {
      "metadata": {
        "id": "sktrSeDgQM4O",
        "colab_type": "code",
        "outputId": "23dd2073-2dc4-418c-caa6-3a8d8265c010",
        "colab": {
          "base_uri": "https://localhost:8080/",
          "height": 183
        }
      },
      "cell_type": "code",
      "source": [
        "model.fit(X_train, y_train, batch_size=32,\n",
        "              nb_epoch=2,validation_data=(X_val, y_val), shuffle=True)"
      ],
      "execution_count": 0,
      "outputs": [
        {
          "output_type": "stream",
          "text": [
            "/usr/local/lib/python3.6/dist-packages/ipykernel_launcher.py:2: UserWarning: The `nb_epoch` argument in `fit` has been renamed `epochs`.\n",
            "  \n"
          ],
          "name": "stderr"
        },
        {
          "output_type": "stream",
          "text": [
            "Train on 9708 samples, validate on 2427 samples\n",
            "Epoch 1/2\n",
            "9708/9708 [==============================] - 282s 29ms/step - loss: 0.1461 - acc: 0.9549 - val_loss: 0.3747 - val_acc: 0.8801\n",
            "Epoch 2/2\n",
            "9708/9708 [==============================] - 282s 29ms/step - loss: 0.0759 - acc: 0.9804 - val_loss: 0.3976 - val_acc: 0.8859\n"
          ],
          "name": "stdout"
        },
        {
          "output_type": "execute_result",
          "data": {
            "text/plain": [
              "<keras.callbacks.History at 0x7ff412a232b0>"
            ]
          },
          "metadata": {
            "tags": []
          },
          "execution_count": 11
        }
      ]
    },
    {
      "metadata": {
        "id": "xRMRILACusP7",
        "colab_type": "text"
      },
      "cell_type": "markdown",
      "source": [
        ""
      ]
    },
    {
      "metadata": {
        "id": "uT4pX_zkU6RV",
        "colab_type": "code",
        "colab": {
          "base_uri": "https://localhost:8080/",
          "height": 54
        },
        "outputId": "f8a25c69-1337-44f0-c6fd-3c6d96c52366"
      },
      "cell_type": "code",
      "source": [
        "res=model.predict(X_train,verbose=1)"
      ],
      "execution_count": 32,
      "outputs": [
        {
          "output_type": "stream",
          "text": [
            "9708/9708 [==============================] - 91s 9ms/step\n",
            "0.0\n"
          ],
          "name": "stdout"
        }
      ]
    },
    {
      "metadata": {
        "id": "5U5gntoHXJKE",
        "colab_type": "code",
        "outputId": "b6beee19-f359-41b0-d12b-2041283fc5de",
        "colab": {
          "base_uri": "https://localhost:8080/",
          "height": 35
        }
      },
      "cell_type": "code",
      "source": [
        "# Top 1 train accuracy\n",
        "dem=0\n",
        "for i in range(res.shape[0]):\n",
        "  if (np.argmax(res[i])==np.argmax(y_train[i])): dem=dem+1\n",
        "print(dem/res.shape[0])\n"
      ],
      "execution_count": 36,
      "outputs": [
        {
          "output_type": "stream",
          "text": [
            "0.9957766790276061\n"
          ],
          "name": "stdout"
        }
      ]
    },
    {
      "metadata": {
        "id": "EwiwhSqJXVo6",
        "colab_type": "code",
        "outputId": "07fbc0a5-c883-48cd-d953-f0079bee8e7f",
        "colab": {
          "base_uri": "https://localhost:8080/",
          "height": 35
        }
      },
      "cell_type": "code",
      "source": [
        "# Top 3 train accuracy\n",
        "dem=0\n",
        "for i in range(res.shape[0]):\n",
        "  if (np.argmax(y_train[i]) in res[i].argsort()[-3:]): dem=dem+1\n",
        "print(dem/res.shape[0])"
      ],
      "execution_count": 39,
      "outputs": [
        {
          "output_type": "stream",
          "text": [
            "0.999896992171405\n"
          ],
          "name": "stdout"
        }
      ]
    },
    {
      "metadata": {
        "id": "1czGObZqXYGC",
        "colab_type": "code",
        "colab": {
          "base_uri": "https://localhost:8080/",
          "height": 54
        },
        "outputId": "cf8113ad-65f5-427c-aa31-ca5679924031"
      },
      "cell_type": "code",
      "source": [
        "res=model.predict(X_val,verbose=1)\n",
        "# Top 1 validation accuracy\n",
        "dem=0\n",
        "for i in range(res.shape[0]):\n",
        "  if (np.argmax(res[i])==np.argmax(y_val[i])): dem=dem+1\n",
        "print(dem/res.shape[0])"
      ],
      "execution_count": 40,
      "outputs": [
        {
          "output_type": "stream",
          "text": [
            "2427/2427 [==============================] - 23s 9ms/step\n",
            "0.8858673259167696\n"
          ],
          "name": "stdout"
        }
      ]
    },
    {
      "metadata": {
        "id": "9eTbZMpCnnn0",
        "colab_type": "code",
        "colab": {
          "base_uri": "https://localhost:8080/",
          "height": 35
        },
        "outputId": "8076f2bf-1120-4857-bd70-ec5ef4a4e320"
      },
      "cell_type": "code",
      "source": [
        "# Top 3 validation accuracy\n",
        "dem=0\n",
        "for i in range(res.shape[0]):\n",
        "  if (np.argmax(y_val[i]) in res[i].argsort()[-3:]): dem=dem+1\n",
        "print(dem/res.shape[0])"
      ],
      "execution_count": 41,
      "outputs": [
        {
          "output_type": "stream",
          "text": [
            "0.9715698393077874\n"
          ],
          "name": "stdout"
        }
      ]
    },
    {
      "metadata": {
        "id": "rm_yu4q-sNFc",
        "colab_type": "code",
        "colab": {}
      },
      "cell_type": "code",
      "source": [
        ""
      ],
      "execution_count": 0,
      "outputs": []
    }
  ]
}