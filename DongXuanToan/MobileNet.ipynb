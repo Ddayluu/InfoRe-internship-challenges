{
 "cells": [
  {
   "cell_type": "code",
   "execution_count": 1,
   "metadata": {
    "colab": {
     "base_uri": "https://localhost:8080/",
     "height": 35
    },
    "colab_type": "code",
    "id": "fiKI2QS6Ox3p",
    "outputId": "4670c1a2-69f5-424f-c762-dcb387b5a741"
   },
   "outputs": [
    {
     "name": "stderr",
     "output_type": "stream",
     "text": [
      "Using TensorFlow backend.\n"
     ]
    }
   ],
   "source": [
    "import numpy as np\n",
    "from keras.models import *\n",
    "from keras.layers import *\n",
    "from keras.preprocessing import image\n",
    "from keras.applications import imagenet_utils, mobilenet\n",
    "from keras import *"
   ]
  },
  {
   "cell_type": "code",
   "execution_count": 0,
   "metadata": {
    "colab": {},
    "colab_type": "code",
    "id": "e6veB4wOPtG7"
   },
   "outputs": [],
   "source": [
    "base_model = mobilenet.MobileNet(include_top=False,input_shape=(224,224,3),weights='imagenet')"
   ]
  },
  {
   "cell_type": "code",
   "execution_count": 0,
   "metadata": {
    "colab": {
     "base_uri": "https://localhost:8080/",
     "height": 3308
    },
    "colab_type": "code",
    "id": "shZYrlt3PyWY",
    "outputId": "95aab817-a61f-4752-c916-440ac0055a36"
   },
   "outputs": [
    {
     "name": "stdout",
     "output_type": "stream",
     "text": [
      "_________________________________________________________________\n",
      "Layer (type)                 Output Shape              Param #   \n",
      "=================================================================\n",
      "input_4 (InputLayer)         (None, 224, 224, 3)       0         \n",
      "_________________________________________________________________\n",
      "conv1_pad (ZeroPadding2D)    (None, 225, 225, 3)       0         \n",
      "_________________________________________________________________\n",
      "conv1 (Conv2D)               (None, 112, 112, 32)      864       \n",
      "_________________________________________________________________\n",
      "conv1_bn (BatchNormalization (None, 112, 112, 32)      128       \n",
      "_________________________________________________________________\n",
      "conv1_relu (ReLU)            (None, 112, 112, 32)      0         \n",
      "_________________________________________________________________\n",
      "conv_dw_1 (DepthwiseConv2D)  (None, 112, 112, 32)      288       \n",
      "_________________________________________________________________\n",
      "conv_dw_1_bn (BatchNormaliza (None, 112, 112, 32)      128       \n",
      "_________________________________________________________________\n",
      "conv_dw_1_relu (ReLU)        (None, 112, 112, 32)      0         \n",
      "_________________________________________________________________\n",
      "conv_pw_1 (Conv2D)           (None, 112, 112, 64)      2048      \n",
      "_________________________________________________________________\n",
      "conv_pw_1_bn (BatchNormaliza (None, 112, 112, 64)      256       \n",
      "_________________________________________________________________\n",
      "conv_pw_1_relu (ReLU)        (None, 112, 112, 64)      0         \n",
      "_________________________________________________________________\n",
      "conv_pad_2 (ZeroPadding2D)   (None, 113, 113, 64)      0         \n",
      "_________________________________________________________________\n",
      "conv_dw_2 (DepthwiseConv2D)  (None, 56, 56, 64)        576       \n",
      "_________________________________________________________________\n",
      "conv_dw_2_bn (BatchNormaliza (None, 56, 56, 64)        256       \n",
      "_________________________________________________________________\n",
      "conv_dw_2_relu (ReLU)        (None, 56, 56, 64)        0         \n",
      "_________________________________________________________________\n",
      "conv_pw_2 (Conv2D)           (None, 56, 56, 128)       8192      \n",
      "_________________________________________________________________\n",
      "conv_pw_2_bn (BatchNormaliza (None, 56, 56, 128)       512       \n",
      "_________________________________________________________________\n",
      "conv_pw_2_relu (ReLU)        (None, 56, 56, 128)       0         \n",
      "_________________________________________________________________\n",
      "conv_dw_3 (DepthwiseConv2D)  (None, 56, 56, 128)       1152      \n",
      "_________________________________________________________________\n",
      "conv_dw_3_bn (BatchNormaliza (None, 56, 56, 128)       512       \n",
      "_________________________________________________________________\n",
      "conv_dw_3_relu (ReLU)        (None, 56, 56, 128)       0         \n",
      "_________________________________________________________________\n",
      "conv_pw_3 (Conv2D)           (None, 56, 56, 128)       16384     \n",
      "_________________________________________________________________\n",
      "conv_pw_3_bn (BatchNormaliza (None, 56, 56, 128)       512       \n",
      "_________________________________________________________________\n",
      "conv_pw_3_relu (ReLU)        (None, 56, 56, 128)       0         \n",
      "_________________________________________________________________\n",
      "conv_pad_4 (ZeroPadding2D)   (None, 57, 57, 128)       0         \n",
      "_________________________________________________________________\n",
      "conv_dw_4 (DepthwiseConv2D)  (None, 28, 28, 128)       1152      \n",
      "_________________________________________________________________\n",
      "conv_dw_4_bn (BatchNormaliza (None, 28, 28, 128)       512       \n",
      "_________________________________________________________________\n",
      "conv_dw_4_relu (ReLU)        (None, 28, 28, 128)       0         \n",
      "_________________________________________________________________\n",
      "conv_pw_4 (Conv2D)           (None, 28, 28, 256)       32768     \n",
      "_________________________________________________________________\n",
      "conv_pw_4_bn (BatchNormaliza (None, 28, 28, 256)       1024      \n",
      "_________________________________________________________________\n",
      "conv_pw_4_relu (ReLU)        (None, 28, 28, 256)       0         \n",
      "_________________________________________________________________\n",
      "conv_dw_5 (DepthwiseConv2D)  (None, 28, 28, 256)       2304      \n",
      "_________________________________________________________________\n",
      "conv_dw_5_bn (BatchNormaliza (None, 28, 28, 256)       1024      \n",
      "_________________________________________________________________\n",
      "conv_dw_5_relu (ReLU)        (None, 28, 28, 256)       0         \n",
      "_________________________________________________________________\n",
      "conv_pw_5 (Conv2D)           (None, 28, 28, 256)       65536     \n",
      "_________________________________________________________________\n",
      "conv_pw_5_bn (BatchNormaliza (None, 28, 28, 256)       1024      \n",
      "_________________________________________________________________\n",
      "conv_pw_5_relu (ReLU)        (None, 28, 28, 256)       0         \n",
      "_________________________________________________________________\n",
      "conv_pad_6 (ZeroPadding2D)   (None, 29, 29, 256)       0         \n",
      "_________________________________________________________________\n",
      "conv_dw_6 (DepthwiseConv2D)  (None, 14, 14, 256)       2304      \n",
      "_________________________________________________________________\n",
      "conv_dw_6_bn (BatchNormaliza (None, 14, 14, 256)       1024      \n",
      "_________________________________________________________________\n",
      "conv_dw_6_relu (ReLU)        (None, 14, 14, 256)       0         \n",
      "_________________________________________________________________\n",
      "conv_pw_6 (Conv2D)           (None, 14, 14, 512)       131072    \n",
      "_________________________________________________________________\n",
      "conv_pw_6_bn (BatchNormaliza (None, 14, 14, 512)       2048      \n",
      "_________________________________________________________________\n",
      "conv_pw_6_relu (ReLU)        (None, 14, 14, 512)       0         \n",
      "_________________________________________________________________\n",
      "conv_dw_7 (DepthwiseConv2D)  (None, 14, 14, 512)       4608      \n",
      "_________________________________________________________________\n",
      "conv_dw_7_bn (BatchNormaliza (None, 14, 14, 512)       2048      \n",
      "_________________________________________________________________\n",
      "conv_dw_7_relu (ReLU)        (None, 14, 14, 512)       0         \n",
      "_________________________________________________________________\n",
      "conv_pw_7 (Conv2D)           (None, 14, 14, 512)       262144    \n",
      "_________________________________________________________________\n",
      "conv_pw_7_bn (BatchNormaliza (None, 14, 14, 512)       2048      \n",
      "_________________________________________________________________\n",
      "conv_pw_7_relu (ReLU)        (None, 14, 14, 512)       0         \n",
      "_________________________________________________________________\n",
      "conv_dw_8 (DepthwiseConv2D)  (None, 14, 14, 512)       4608      \n",
      "_________________________________________________________________\n",
      "conv_dw_8_bn (BatchNormaliza (None, 14, 14, 512)       2048      \n",
      "_________________________________________________________________\n",
      "conv_dw_8_relu (ReLU)        (None, 14, 14, 512)       0         \n",
      "_________________________________________________________________\n",
      "conv_pw_8 (Conv2D)           (None, 14, 14, 512)       262144    \n",
      "_________________________________________________________________\n",
      "conv_pw_8_bn (BatchNormaliza (None, 14, 14, 512)       2048      \n",
      "_________________________________________________________________\n",
      "conv_pw_8_relu (ReLU)        (None, 14, 14, 512)       0         \n",
      "_________________________________________________________________\n",
      "conv_dw_9 (DepthwiseConv2D)  (None, 14, 14, 512)       4608      \n",
      "_________________________________________________________________\n",
      "conv_dw_9_bn (BatchNormaliza (None, 14, 14, 512)       2048      \n",
      "_________________________________________________________________\n",
      "conv_dw_9_relu (ReLU)        (None, 14, 14, 512)       0         \n",
      "_________________________________________________________________\n",
      "conv_pw_9 (Conv2D)           (None, 14, 14, 512)       262144    \n",
      "_________________________________________________________________\n",
      "conv_pw_9_bn (BatchNormaliza (None, 14, 14, 512)       2048      \n",
      "_________________________________________________________________\n",
      "conv_pw_9_relu (ReLU)        (None, 14, 14, 512)       0         \n",
      "_________________________________________________________________\n",
      "conv_dw_10 (DepthwiseConv2D) (None, 14, 14, 512)       4608      \n",
      "_________________________________________________________________\n",
      "conv_dw_10_bn (BatchNormaliz (None, 14, 14, 512)       2048      \n",
      "_________________________________________________________________\n",
      "conv_dw_10_relu (ReLU)       (None, 14, 14, 512)       0         \n",
      "_________________________________________________________________\n",
      "conv_pw_10 (Conv2D)          (None, 14, 14, 512)       262144    \n",
      "_________________________________________________________________\n",
      "conv_pw_10_bn (BatchNormaliz (None, 14, 14, 512)       2048      \n",
      "_________________________________________________________________\n",
      "conv_pw_10_relu (ReLU)       (None, 14, 14, 512)       0         \n",
      "_________________________________________________________________\n",
      "conv_dw_11 (DepthwiseConv2D) (None, 14, 14, 512)       4608      \n",
      "_________________________________________________________________\n",
      "conv_dw_11_bn (BatchNormaliz (None, 14, 14, 512)       2048      \n",
      "_________________________________________________________________\n",
      "conv_dw_11_relu (ReLU)       (None, 14, 14, 512)       0         \n",
      "_________________________________________________________________\n",
      "conv_pw_11 (Conv2D)          (None, 14, 14, 512)       262144    \n",
      "_________________________________________________________________\n",
      "conv_pw_11_bn (BatchNormaliz (None, 14, 14, 512)       2048      \n",
      "_________________________________________________________________\n",
      "conv_pw_11_relu (ReLU)       (None, 14, 14, 512)       0         \n",
      "_________________________________________________________________\n",
      "conv_pad_12 (ZeroPadding2D)  (None, 15, 15, 512)       0         \n",
      "_________________________________________________________________\n",
      "conv_dw_12 (DepthwiseConv2D) (None, 7, 7, 512)         4608      \n",
      "_________________________________________________________________\n",
      "conv_dw_12_bn (BatchNormaliz (None, 7, 7, 512)         2048      \n",
      "_________________________________________________________________\n",
      "conv_dw_12_relu (ReLU)       (None, 7, 7, 512)         0         \n",
      "_________________________________________________________________\n",
      "conv_pw_12 (Conv2D)          (None, 7, 7, 1024)        524288    \n",
      "_________________________________________________________________\n",
      "conv_pw_12_bn (BatchNormaliz (None, 7, 7, 1024)        4096      \n",
      "_________________________________________________________________\n",
      "conv_pw_12_relu (ReLU)       (None, 7, 7, 1024)        0         \n",
      "_________________________________________________________________\n",
      "conv_dw_13 (DepthwiseConv2D) (None, 7, 7, 1024)        9216      \n",
      "_________________________________________________________________\n",
      "conv_dw_13_bn (BatchNormaliz (None, 7, 7, 1024)        4096      \n",
      "_________________________________________________________________\n",
      "conv_dw_13_relu (ReLU)       (None, 7, 7, 1024)        0         \n",
      "_________________________________________________________________\n",
      "conv_pw_13 (Conv2D)          (None, 7, 7, 1024)        1048576   \n",
      "_________________________________________________________________\n",
      "conv_pw_13_bn (BatchNormaliz (None, 7, 7, 1024)        4096      \n",
      "_________________________________________________________________\n",
      "conv_pw_13_relu (ReLU)       (None, 7, 7, 1024)        0         \n",
      "=================================================================\n",
      "Total params: 3,228,864\n",
      "Trainable params: 3,206,976\n",
      "Non-trainable params: 21,888\n",
      "_________________________________________________________________\n"
     ]
    }
   ],
   "source": [
    "base_model.summary()"
   ]
  },
  {
   "cell_type": "code",
   "execution_count": 0,
   "metadata": {
    "colab": {
     "base_uri": "https://localhost:8080/",
     "height": 217
    },
    "colab_type": "code",
    "id": "zKqU7AXxP3Ea",
    "outputId": "dacf40dc-0bb9-44ab-c9b4-41871cf68df3"
   },
   "outputs": [
    {
     "name": "stdout",
     "output_type": "stream",
     "text": [
      "_________________________________________________________________\n",
      "Layer (type)                 Output Shape              Param #   \n",
      "=================================================================\n",
      "flatten_1 (Flatten)          (None, 50176)             0         \n",
      "_________________________________________________________________\n",
      "dense_4 (Dense)              (None, 10)                501770    \n",
      "=================================================================\n",
      "Total params: 501,770\n",
      "Trainable params: 501,770\n",
      "Non-trainable params: 0\n",
      "_________________________________________________________________\n"
     ]
    }
   ],
   "source": [
    "add_model = Sequential()\n",
    "add_model.add(Flatten(input_shape=base_model.output_shape[1:]))\n",
    "add_model.add(Dense(10, activation='softmax'))\n",
    "add_model.summary()"
   ]
  },
  {
   "cell_type": "code",
   "execution_count": 0,
   "metadata": {
    "colab": {
     "base_uri": "https://localhost:8080/",
     "height": 3345
    },
    "colab_type": "code",
    "id": "IiOwUGcdSyPJ",
    "outputId": "1a5b649d-fd87-43e0-bfff-184879385174"
   },
   "outputs": [
    {
     "name": "stdout",
     "output_type": "stream",
     "text": [
      "_________________________________________________________________\n",
      "Layer (type)                 Output Shape              Param #   \n",
      "=================================================================\n",
      "input_4 (InputLayer)         (None, 224, 224, 3)       0         \n",
      "_________________________________________________________________\n",
      "conv1_pad (ZeroPadding2D)    (None, 225, 225, 3)       0         \n",
      "_________________________________________________________________\n",
      "conv1 (Conv2D)               (None, 112, 112, 32)      864       \n",
      "_________________________________________________________________\n",
      "conv1_bn (BatchNormalization (None, 112, 112, 32)      128       \n",
      "_________________________________________________________________\n",
      "conv1_relu (ReLU)            (None, 112, 112, 32)      0         \n",
      "_________________________________________________________________\n",
      "conv_dw_1 (DepthwiseConv2D)  (None, 112, 112, 32)      288       \n",
      "_________________________________________________________________\n",
      "conv_dw_1_bn (BatchNormaliza (None, 112, 112, 32)      128       \n",
      "_________________________________________________________________\n",
      "conv_dw_1_relu (ReLU)        (None, 112, 112, 32)      0         \n",
      "_________________________________________________________________\n",
      "conv_pw_1 (Conv2D)           (None, 112, 112, 64)      2048      \n",
      "_________________________________________________________________\n",
      "conv_pw_1_bn (BatchNormaliza (None, 112, 112, 64)      256       \n",
      "_________________________________________________________________\n",
      "conv_pw_1_relu (ReLU)        (None, 112, 112, 64)      0         \n",
      "_________________________________________________________________\n",
      "conv_pad_2 (ZeroPadding2D)   (None, 113, 113, 64)      0         \n",
      "_________________________________________________________________\n",
      "conv_dw_2 (DepthwiseConv2D)  (None, 56, 56, 64)        576       \n",
      "_________________________________________________________________\n",
      "conv_dw_2_bn (BatchNormaliza (None, 56, 56, 64)        256       \n",
      "_________________________________________________________________\n",
      "conv_dw_2_relu (ReLU)        (None, 56, 56, 64)        0         \n",
      "_________________________________________________________________\n",
      "conv_pw_2 (Conv2D)           (None, 56, 56, 128)       8192      \n",
      "_________________________________________________________________\n",
      "conv_pw_2_bn (BatchNormaliza (None, 56, 56, 128)       512       \n",
      "_________________________________________________________________\n",
      "conv_pw_2_relu (ReLU)        (None, 56, 56, 128)       0         \n",
      "_________________________________________________________________\n",
      "conv_dw_3 (DepthwiseConv2D)  (None, 56, 56, 128)       1152      \n",
      "_________________________________________________________________\n",
      "conv_dw_3_bn (BatchNormaliza (None, 56, 56, 128)       512       \n",
      "_________________________________________________________________\n",
      "conv_dw_3_relu (ReLU)        (None, 56, 56, 128)       0         \n",
      "_________________________________________________________________\n",
      "conv_pw_3 (Conv2D)           (None, 56, 56, 128)       16384     \n",
      "_________________________________________________________________\n",
      "conv_pw_3_bn (BatchNormaliza (None, 56, 56, 128)       512       \n",
      "_________________________________________________________________\n",
      "conv_pw_3_relu (ReLU)        (None, 56, 56, 128)       0         \n",
      "_________________________________________________________________\n",
      "conv_pad_4 (ZeroPadding2D)   (None, 57, 57, 128)       0         \n",
      "_________________________________________________________________\n",
      "conv_dw_4 (DepthwiseConv2D)  (None, 28, 28, 128)       1152      \n",
      "_________________________________________________________________\n",
      "conv_dw_4_bn (BatchNormaliza (None, 28, 28, 128)       512       \n",
      "_________________________________________________________________\n",
      "conv_dw_4_relu (ReLU)        (None, 28, 28, 128)       0         \n",
      "_________________________________________________________________\n",
      "conv_pw_4 (Conv2D)           (None, 28, 28, 256)       32768     \n",
      "_________________________________________________________________\n",
      "conv_pw_4_bn (BatchNormaliza (None, 28, 28, 256)       1024      \n",
      "_________________________________________________________________\n",
      "conv_pw_4_relu (ReLU)        (None, 28, 28, 256)       0         \n",
      "_________________________________________________________________\n",
      "conv_dw_5 (DepthwiseConv2D)  (None, 28, 28, 256)       2304      \n",
      "_________________________________________________________________\n",
      "conv_dw_5_bn (BatchNormaliza (None, 28, 28, 256)       1024      \n",
      "_________________________________________________________________\n",
      "conv_dw_5_relu (ReLU)        (None, 28, 28, 256)       0         \n",
      "_________________________________________________________________\n",
      "conv_pw_5 (Conv2D)           (None, 28, 28, 256)       65536     \n",
      "_________________________________________________________________\n",
      "conv_pw_5_bn (BatchNormaliza (None, 28, 28, 256)       1024      \n",
      "_________________________________________________________________\n",
      "conv_pw_5_relu (ReLU)        (None, 28, 28, 256)       0         \n",
      "_________________________________________________________________\n",
      "conv_pad_6 (ZeroPadding2D)   (None, 29, 29, 256)       0         \n",
      "_________________________________________________________________\n",
      "conv_dw_6 (DepthwiseConv2D)  (None, 14, 14, 256)       2304      \n",
      "_________________________________________________________________\n",
      "conv_dw_6_bn (BatchNormaliza (None, 14, 14, 256)       1024      \n",
      "_________________________________________________________________\n",
      "conv_dw_6_relu (ReLU)        (None, 14, 14, 256)       0         \n",
      "_________________________________________________________________\n",
      "conv_pw_6 (Conv2D)           (None, 14, 14, 512)       131072    \n",
      "_________________________________________________________________\n",
      "conv_pw_6_bn (BatchNormaliza (None, 14, 14, 512)       2048      \n",
      "_________________________________________________________________\n",
      "conv_pw_6_relu (ReLU)        (None, 14, 14, 512)       0         \n",
      "_________________________________________________________________\n",
      "conv_dw_7 (DepthwiseConv2D)  (None, 14, 14, 512)       4608      \n",
      "_________________________________________________________________\n",
      "conv_dw_7_bn (BatchNormaliza (None, 14, 14, 512)       2048      \n",
      "_________________________________________________________________\n",
      "conv_dw_7_relu (ReLU)        (None, 14, 14, 512)       0         \n",
      "_________________________________________________________________\n",
      "conv_pw_7 (Conv2D)           (None, 14, 14, 512)       262144    \n",
      "_________________________________________________________________\n",
      "conv_pw_7_bn (BatchNormaliza (None, 14, 14, 512)       2048      \n",
      "_________________________________________________________________\n",
      "conv_pw_7_relu (ReLU)        (None, 14, 14, 512)       0         \n",
      "_________________________________________________________________\n",
      "conv_dw_8 (DepthwiseConv2D)  (None, 14, 14, 512)       4608      \n",
      "_________________________________________________________________\n",
      "conv_dw_8_bn (BatchNormaliza (None, 14, 14, 512)       2048      \n",
      "_________________________________________________________________\n",
      "conv_dw_8_relu (ReLU)        (None, 14, 14, 512)       0         \n",
      "_________________________________________________________________\n",
      "conv_pw_8 (Conv2D)           (None, 14, 14, 512)       262144    \n",
      "_________________________________________________________________\n",
      "conv_pw_8_bn (BatchNormaliza (None, 14, 14, 512)       2048      \n",
      "_________________________________________________________________\n",
      "conv_pw_8_relu (ReLU)        (None, 14, 14, 512)       0         \n",
      "_________________________________________________________________\n",
      "conv_dw_9 (DepthwiseConv2D)  (None, 14, 14, 512)       4608      \n",
      "_________________________________________________________________\n",
      "conv_dw_9_bn (BatchNormaliza (None, 14, 14, 512)       2048      \n",
      "_________________________________________________________________\n",
      "conv_dw_9_relu (ReLU)        (None, 14, 14, 512)       0         \n",
      "_________________________________________________________________\n",
      "conv_pw_9 (Conv2D)           (None, 14, 14, 512)       262144    \n",
      "_________________________________________________________________\n",
      "conv_pw_9_bn (BatchNormaliza (None, 14, 14, 512)       2048      \n",
      "_________________________________________________________________\n",
      "conv_pw_9_relu (ReLU)        (None, 14, 14, 512)       0         \n",
      "_________________________________________________________________\n",
      "conv_dw_10 (DepthwiseConv2D) (None, 14, 14, 512)       4608      \n",
      "_________________________________________________________________\n",
      "conv_dw_10_bn (BatchNormaliz (None, 14, 14, 512)       2048      \n",
      "_________________________________________________________________\n",
      "conv_dw_10_relu (ReLU)       (None, 14, 14, 512)       0         \n",
      "_________________________________________________________________\n",
      "conv_pw_10 (Conv2D)          (None, 14, 14, 512)       262144    \n",
      "_________________________________________________________________\n",
      "conv_pw_10_bn (BatchNormaliz (None, 14, 14, 512)       2048      \n",
      "_________________________________________________________________\n",
      "conv_pw_10_relu (ReLU)       (None, 14, 14, 512)       0         \n",
      "_________________________________________________________________\n",
      "conv_dw_11 (DepthwiseConv2D) (None, 14, 14, 512)       4608      \n",
      "_________________________________________________________________\n",
      "conv_dw_11_bn (BatchNormaliz (None, 14, 14, 512)       2048      \n",
      "_________________________________________________________________\n",
      "conv_dw_11_relu (ReLU)       (None, 14, 14, 512)       0         \n",
      "_________________________________________________________________\n",
      "conv_pw_11 (Conv2D)          (None, 14, 14, 512)       262144    \n",
      "_________________________________________________________________\n",
      "conv_pw_11_bn (BatchNormaliz (None, 14, 14, 512)       2048      \n",
      "_________________________________________________________________\n",
      "conv_pw_11_relu (ReLU)       (None, 14, 14, 512)       0         \n",
      "_________________________________________________________________\n",
      "conv_pad_12 (ZeroPadding2D)  (None, 15, 15, 512)       0         \n",
      "_________________________________________________________________\n",
      "conv_dw_12 (DepthwiseConv2D) (None, 7, 7, 512)         4608      \n",
      "_________________________________________________________________\n",
      "conv_dw_12_bn (BatchNormaliz (None, 7, 7, 512)         2048      \n",
      "_________________________________________________________________\n",
      "conv_dw_12_relu (ReLU)       (None, 7, 7, 512)         0         \n",
      "_________________________________________________________________\n",
      "conv_pw_12 (Conv2D)          (None, 7, 7, 1024)        524288    \n",
      "_________________________________________________________________\n",
      "conv_pw_12_bn (BatchNormaliz (None, 7, 7, 1024)        4096      \n",
      "_________________________________________________________________\n",
      "conv_pw_12_relu (ReLU)       (None, 7, 7, 1024)        0         \n",
      "_________________________________________________________________\n",
      "conv_dw_13 (DepthwiseConv2D) (None, 7, 7, 1024)        9216      \n",
      "_________________________________________________________________\n",
      "conv_dw_13_bn (BatchNormaliz (None, 7, 7, 1024)        4096      \n",
      "_________________________________________________________________\n",
      "conv_dw_13_relu (ReLU)       (None, 7, 7, 1024)        0         \n",
      "_________________________________________________________________\n",
      "conv_pw_13 (Conv2D)          (None, 7, 7, 1024)        1048576   \n",
      "_________________________________________________________________\n",
      "conv_pw_13_bn (BatchNormaliz (None, 7, 7, 1024)        4096      \n",
      "_________________________________________________________________\n",
      "conv_pw_13_relu (ReLU)       (None, 7, 7, 1024)        0         \n",
      "_________________________________________________________________\n",
      "sequential_4 (Sequential)    (None, 10)                501770    \n",
      "=================================================================\n",
      "Total params: 3,730,634\n",
      "Trainable params: 3,708,746\n",
      "Non-trainable params: 21,888\n",
      "_________________________________________________________________\n"
     ]
    }
   ],
   "source": [
    "model = Model(inputs=base_model.input, outputs=add_model(base_model.output))\n",
    "model.compile(loss='categorical_crossentropy', optimizer=optimizers.SGD(lr=1e-4, momentum=0.9),\n",
    "              metrics=['accuracy'])\n",
    "\n",
    "model.summary()"
   ]
  },
  {
   "cell_type": "code",
   "execution_count": 0,
   "metadata": {
    "colab": {
     "base_uri": "https://localhost:8080/",
     "height": 799
    },
    "colab_type": "code",
    "id": "uiZUmNZMTprf",
    "outputId": "adac1ba6-d88d-45d4-e262-9903d3216cb7"
   },
   "outputs": [
    {
     "name": "stdout",
     "output_type": "stream",
     "text": [
      "Cloning into 'Dropbox-Uploader'...\n",
      "remote: Enumerating objects: 951, done.\u001b[K\n",
      "Receiving objects:   0% (1/951)   \r",
      "Receiving objects:   1% (10/951)   \r",
      "Receiving objects:   2% (20/951)   \r",
      "Receiving objects:   3% (29/951)   \r",
      "Receiving objects:   4% (39/951)   \r",
      "Receiving objects:   5% (48/951)   \r",
      "Receiving objects:   6% (58/951)   \r",
      "Receiving objects:   7% (67/951)   \r",
      "Receiving objects:   8% (77/951)   \r",
      "Receiving objects:   9% (86/951)   \r",
      "Receiving objects:  10% (96/951)   \r",
      "Receiving objects:  11% (105/951)   \r",
      "Receiving objects:  12% (115/951)   \r",
      "Receiving objects:  13% (124/951)   \r",
      "Receiving objects:  14% (134/951)   \r",
      "Receiving objects:  15% (143/951)   \r",
      "Receiving objects:  16% (153/951)   \r",
      "Receiving objects:  17% (162/951)   \r",
      "Receiving objects:  18% (172/951)   \r",
      "Receiving objects:  19% (181/951)   \r",
      "Receiving objects:  20% (191/951)   \r",
      "Receiving objects:  21% (200/951)   \r",
      "Receiving objects:  22% (210/951)   \r",
      "Receiving objects:  23% (219/951)   \r",
      "Receiving objects:  24% (229/951)   \r",
      "Receiving objects:  25% (238/951)   \r",
      "Receiving objects:  26% (248/951)   \r",
      "Receiving objects:  27% (257/951)   \r",
      "Receiving objects:  28% (267/951)   \r",
      "Receiving objects:  29% (276/951)   \r",
      "Receiving objects:  30% (286/951)   \r",
      "Receiving objects:  31% (295/951)   \r",
      "Receiving objects:  32% (305/951)   \r",
      "Receiving objects:  33% (314/951)   \r",
      "Receiving objects:  34% (324/951)   \r",
      "Receiving objects:  35% (333/951)   \r",
      "Receiving objects:  36% (343/951)   \r",
      "Receiving objects:  37% (352/951)   \r",
      "Receiving objects:  38% (362/951)   \r",
      "Receiving objects:  39% (371/951)   \r",
      "Receiving objects:  40% (381/951)   \r",
      "Receiving objects:  41% (390/951)   \r",
      "Receiving objects:  42% (400/951)   \r",
      "Receiving objects:  43% (409/951)   \r",
      "Receiving objects:  44% (419/951)   \r",
      "Receiving objects:  45% (428/951)   \r",
      "Receiving objects:  46% (438/951)   \r",
      "Receiving objects:  47% (447/951)   \r",
      "Receiving objects:  48% (457/951)   \r",
      "Receiving objects:  49% (466/951)   \r",
      "Receiving objects:  50% (476/951)   \r",
      "Receiving objects:  51% (486/951)   \r",
      "Receiving objects:  52% (495/951)   \r",
      "Receiving objects:  53% (505/951)   \r",
      "Receiving objects:  54% (514/951)   \r",
      "Receiving objects:  55% (524/951)   \r",
      "Receiving objects:  56% (533/951)   \r",
      "Receiving objects:  57% (543/951)   \r",
      "Receiving objects:  58% (552/951)   \r",
      "Receiving objects:  59% (562/951)   \r",
      "Receiving objects:  60% (571/951)   \r",
      "Receiving objects:  61% (581/951)   \r",
      "Receiving objects:  62% (590/951)   \r",
      "Receiving objects:  63% (600/951)   \r",
      "Receiving objects:  64% (609/951)   \r",
      "Receiving objects:  65% (619/951)   \r",
      "Receiving objects:  66% (628/951)   \r",
      "Receiving objects:  67% (638/951)   \r",
      "Receiving objects:  68% (647/951)   \r",
      "Receiving objects:  69% (657/951)   \r",
      "Receiving objects:  70% (666/951)   \r",
      "Receiving objects:  71% (676/951)   \r",
      "Receiving objects:  72% (685/951)   \r",
      "Receiving objects:  73% (695/951)   \r",
      "Receiving objects:  74% (704/951)   \r",
      "Receiving objects:  75% (714/951)   \r",
      "Receiving objects:  76% (723/951)   \r",
      "Receiving objects:  77% (733/951)   \r",
      "remote: Total 951 (delta 0), reused 0 (delta 0), pack-reused 951\u001b[K\n",
      "Receiving objects:  78% (742/951)   \r",
      "Receiving objects:  79% (752/951)   \r",
      "Receiving objects:  80% (761/951)   \r",
      "Receiving objects:  81% (771/951)   \r",
      "Receiving objects:  82% (780/951)   \r",
      "Receiving objects:  83% (790/951)   \r",
      "Receiving objects:  84% (799/951)   \r",
      "Receiving objects:  85% (809/951)   \r",
      "Receiving objects:  86% (818/951)   \r",
      "Receiving objects:  87% (828/951)   \r",
      "Receiving objects:  88% (837/951)   \r",
      "Receiving objects:  89% (847/951)   \r",
      "Receiving objects:  90% (856/951)   \r",
      "Receiving objects:  91% (866/951)   \r",
      "Receiving objects:  92% (875/951)   \r",
      "Receiving objects:  93% (885/951)   \r",
      "Receiving objects:  94% (894/951)   \r",
      "Receiving objects:  95% (904/951)   \r",
      "Receiving objects:  96% (913/951)   \r",
      "Receiving objects:  97% (923/951)   \r",
      "Receiving objects:  98% (932/951)   \r",
      "Receiving objects:  99% (942/951)   \r",
      "Receiving objects: 100% (951/951)   \r",
      "Receiving objects: 100% (951/951), 327.52 KiB | 11.70 MiB/s, done.\n",
      "Resolving deltas:   0% (0/504)   \r",
      "Resolving deltas:   1% (9/504)   \r",
      "Resolving deltas:   2% (13/504)   \r",
      "Resolving deltas:   3% (16/504)   \r",
      "Resolving deltas:   5% (30/504)   \r",
      "Resolving deltas:   6% (33/504)   \r",
      "Resolving deltas:   9% (46/504)   \r",
      "Resolving deltas:  11% (59/504)   \r",
      "Resolving deltas:  19% (100/504)   \r",
      "Resolving deltas:  36% (182/504)   \r",
      "Resolving deltas:  43% (219/504)   \r",
      "Resolving deltas:  48% (244/504)   \r",
      "Resolving deltas:  49% (250/504)   \r",
      "Resolving deltas:  56% (283/504)   \r",
      "Resolving deltas:  59% (302/504)   \r",
      "Resolving deltas:  61% (311/504)   \r",
      "Resolving deltas:  64% (323/504)   \r",
      "Resolving deltas:  65% (331/504)   \r",
      "Resolving deltas:  66% (337/504)   \r",
      "Resolving deltas:  72% (367/504)   \r",
      "Resolving deltas:  82% (414/504)   \r",
      "Resolving deltas:  83% (419/504)   \r",
      "Resolving deltas:  84% (424/504)   \r",
      "Resolving deltas:  85% (429/504)   \r",
      "Resolving deltas:  86% (437/504)   \r",
      "Resolving deltas:  87% (439/504)   \r",
      "Resolving deltas:  88% (447/504)   \r",
      "Resolving deltas:  92% (467/504)   \r",
      "Resolving deltas:  95% (482/504)   \r",
      "Resolving deltas:  96% (484/504)   \r",
      "Resolving deltas: 100% (504/504)   \r",
      "Resolving deltas: 100% (504/504), done.\n",
      "/content/Dropbox-Uploader\n",
      "\n",
      " This is the first time you run this script, please follow the instructions:\n",
      "\n",
      " 1) Open the following URL in your Browser, and log in using your account: https://www.dropbox.com/developers/apps\n",
      " 2) Click on \"Create App\", then select \"Dropbox API app\"\n",
      " 3) Now go on with the configuration, choosing the app permissions and access restrictions to your DropBox folder\n",
      " 4) Enter the \"App Name\" that you prefer (e.g. MyUploader258382166828620)\n",
      "\n",
      " Now, click on the \"Create App\" button.\n",
      "\n",
      " When your new App is successfully created, please click on the Generate button\n",
      " under the 'Generated access token' section, then execute the following command:\n",
      "\n",
      " echo \"INPUT_YOUR_ACCESS_TOKEN_HERE\" > token.txt\n",
      "\n",
      "\n",
      " This is the first time you run this script, please follow the instructions:\n",
      "\n",
      " 1) Open the following URL in your Browser, and log in using your account: https://www.dropbox.com/developers/apps\n",
      " 2) Click on \"Create App\", then select \"Dropbox API app\"\n",
      " 3) Now go on with the configuration, choosing the app permissions and access restrictions to your DropBox folder\n",
      " 4) Enter the \"App Name\" that you prefer (e.g. MyUploader2416030812102)\n",
      "\n",
      " Now, click on the \"Create App\" button.\n",
      "\n",
      " When your new App is successfully created, please click on the Generate button\n",
      " under the 'Generated access token' section, then execute the following command:\n",
      "\n",
      " echo \"INPUT_YOUR_ACCESS_TOKEN_HERE\" > token.txt\n",
      "\n",
      "\n",
      " Found token.txt with access token: WCOL1o0mlMAAAAAAAAAUkI3btdYWm3qFFxOW5cB_dlGVt1DGoFHFNNpYNOGud2Xt\n",
      "\n",
      " You can unlink this account if the token is wrong, using:\n",
      " ./dropbox-uploader.sh unlink\n",
      "\n",
      " The configuration has been saved.\n"
     ]
    }
   ],
   "source": [
    "# Get Image\n",
    "!git clone https://github.com/thatbrguy/Dropbox-Uploader.git\n",
    "%cd Dropbox-Uploader\n",
    "!bash dropbox_uploader.sh\n",
    "!echo \"WCOL1o0mlMAAAAAAAAAUkI3btdYWm3qFFxOW5cB_dlGVt1DGoFHFNNpYNOGud2Xt\" > token.txt\n",
    "!bash dropbox_uploader.sh"
   ]
  },
  {
   "cell_type": "code",
   "execution_count": 0,
   "metadata": {
    "colab": {
     "base_uri": "https://localhost:8080/",
     "height": 35
    },
    "colab_type": "code",
    "id": "ZZf5YBuyUadt",
    "outputId": "b17bf033-64b1-4ce8-d069-108b2dea7b80"
   },
   "outputs": [
    {
     "name": "stdout",
     "output_type": "stream",
     "text": [
      " > Downloading \"/dataset.zip\" to \"/content/Dropbox-Uploader/dataset.zip\"... DONE\n"
     ]
    }
   ],
   "source": [
    "! ./dropbox_uploader.sh download dataset.zip"
   ]
  },
  {
   "cell_type": "code",
   "execution_count": 0,
   "metadata": {
    "colab": {
     "base_uri": "https://localhost:8080/",
     "height": 110
    },
    "colab_type": "code",
    "id": "hZv8-8MSVNgp",
    "outputId": "ed52de47-b9b8-413a-e864-8c17c5882455"
   },
   "outputs": [
    {
     "name": "stdout",
     "output_type": "stream",
     "text": [
      "Collecting Zipfile36\n",
      "  Downloading https://files.pythonhosted.org/packages/fd/8a/3b7da0b0bd87d1ef05b74207827c72d348b56a0d6d83242582be18a81e02/zipfile36-0.1.3-py3-none-any.whl\n",
      "Installing collected packages: Zipfile36\n",
      "Successfully installed Zipfile36-0.1.3\n"
     ]
    }
   ],
   "source": [
    "!pip install Zipfile36\n",
    "import zipfile\n",
    "local_zip='./dataset.zip'\n",
    "zip_ref = zipfile.ZipFile(local_zip, 'r')\n",
    "zip_ref.extractall('./dataset')\n",
    "zip_ref.close()"
   ]
  },
  {
   "cell_type": "code",
   "execution_count": 0,
   "metadata": {
    "colab": {
     "base_uri": "https://localhost:8080/",
     "height": 35
    },
    "colab_type": "code",
    "id": "zB-MiU9FVW0I",
    "outputId": "e764c1c3-2dba-454a-9b5a-b4b156b3962b"
   },
   "outputs": [
    {
     "name": "stdout",
     "output_type": "stream",
     "text": [
      "/content/Dropbox-Uploader/dataset\n"
     ]
    }
   ],
   "source": [
    "%cd /content/Dropbox-Uploader/dataset"
   ]
  },
  {
   "cell_type": "code",
   "execution_count": 0,
   "metadata": {
    "colab": {},
    "colab_type": "code",
    "id": "N5QoE8KPVgzo"
   },
   "outputs": [],
   "source": [
    "import os\n",
    "import cv2\n",
    "# Read data\n",
    "dog=['bullmastiff', 'chowchow', 'pug', 'maltese', 'huskysibir', 'dachshund', 'dalmatian', 'corgi', 'chihuahua', 'yorkshire']\n",
    "X_train=[]\n",
    "y_train=[]\n",
    "for index in range(len(dog)):\n",
    "  for i in os.listdir('./'+dog[index]):\n",
    "    X_train.append(cv2.resize(cv2.imread('./'+dog[index]+'/'+i),(224,224)))\n",
    "    y_train.append(index)"
   ]
  },
  {
   "cell_type": "code",
   "execution_count": 0,
   "metadata": {
    "colab": {},
    "colab_type": "code",
    "id": "r5haIjoeVlKb"
   },
   "outputs": [],
   "source": [
    "from sklearn.model_selection import train_test_split\n",
    "import keras\n",
    "# Process data\n",
    "X_train,X_val,y_train,y_val=train_test_split(X_train,y_train,test_size=0.2,random_state=42)\n",
    "y_train=keras.utils.to_categorical(y_train,10)\n",
    "y_val=keras.utils.to_categorical(y_val,10)\n",
    "X_train=np.array(X_train)\n",
    "X_val=np.array(X_val)\n",
    "y_train=np.array(y_train)\n",
    "y_val=np.array(y_val)\n",
    "X_train=X_train.astype('float16')\n",
    "X_val=X_val.astype('float16')\n",
    "X_train=X_train/255\n",
    "X_val=X_val/255"
   ]
  },
  {
   "cell_type": "code",
   "execution_count": 0,
   "metadata": {
    "colab": {
     "base_uri": "https://localhost:8080/",
     "height": 201
    },
    "colab_type": "code",
    "id": "ciI6grudWAUz",
    "outputId": "cbb42f65-f2c8-4828-cde1-7ad249af42c3"
   },
   "outputs": [
    {
     "name": "stdout",
     "output_type": "stream",
     "text": [
      "WARNING:tensorflow:From /usr/local/lib/python3.6/dist-packages/tensorflow/python/ops/math_ops.py:3066: to_int32 (from tensorflow.python.ops.math_ops) is deprecated and will be removed in a future version.\n",
      "Instructions for updating:\n",
      "Use tf.cast instead.\n"
     ]
    },
    {
     "name": "stderr",
     "output_type": "stream",
     "text": [
      "/usr/local/lib/python3.6/dist-packages/ipykernel_launcher.py:2: UserWarning: The `nb_epoch` argument in `fit` has been renamed `epochs`.\n",
      "  \n"
     ]
    },
    {
     "name": "stdout",
     "output_type": "stream",
     "text": [
      "Train on 9708 samples, validate on 2427 samples\n",
      "Epoch 1/1\n",
      "9708/9708 [==============================] - 126s 13ms/step - loss: 0.8450 - acc: 0.7740 - val_loss: 0.4513 - val_acc: 0.8768\n"
     ]
    },
    {
     "data": {
      "text/plain": [
       "<keras.callbacks.History at 0x7f93ecdc7cc0>"
      ]
     },
     "execution_count": 38,
     "metadata": {
      "tags": []
     },
     "output_type": "execute_result"
    }
   ],
   "source": [
    "model.fit(X_train, y_train, batch_size=32,\n",
    "              nb_epoch=1,validation_data=(X_val, y_val), shuffle=True)"
   ]
  },
  {
   "cell_type": "code",
   "execution_count": 0,
   "metadata": {
    "colab": {
     "base_uri": "https://localhost:8080/",
     "height": 255
    },
    "colab_type": "code",
    "id": "Z7pAG421YpnF",
    "outputId": "328f5f61-a2f5-4039-d4b0-0a1100211af9"
   },
   "outputs": [
    {
     "name": "stderr",
     "output_type": "stream",
     "text": [
      "/usr/local/lib/python3.6/dist-packages/ipykernel_launcher.py:2: UserWarning: The `nb_epoch` argument in `fit` has been renamed `epochs`.\n",
      "  \n"
     ]
    },
    {
     "name": "stdout",
     "output_type": "stream",
     "text": [
      "Train on 9708 samples, validate on 2427 samples\n",
      "Epoch 1/4\n",
      "9708/9708 [==============================] - 117s 12ms/step - loss: 0.1279 - acc: 0.9568 - val_loss: 0.4084 - val_acc: 0.8912\n",
      "Epoch 2/4\n",
      "9708/9708 [==============================] - 117s 12ms/step - loss: 0.0578 - acc: 0.9801 - val_loss: 0.3858 - val_acc: 0.8978\n",
      "Epoch 3/4\n",
      "9708/9708 [==============================] - 117s 12ms/step - loss: 0.0320 - acc: 0.9900 - val_loss: 0.3824 - val_acc: 0.9023\n",
      "Epoch 4/4\n",
      "9708/9708 [==============================] - 117s 12ms/step - loss: 0.0213 - acc: 0.9944 - val_loss: 0.3768 - val_acc: 0.9032\n"
     ]
    },
    {
     "data": {
      "text/plain": [
       "<keras.callbacks.History at 0x7f92abe86d30>"
      ]
     },
     "execution_count": 39,
     "metadata": {
      "tags": []
     },
     "output_type": "execute_result"
    }
   ],
   "source": [
    "model.fit(X_train, y_train, batch_size=32,\n",
    "              nb_epoch=4,validation_data=(X_val, y_val), shuffle=True)"
   ]
  },
  {
   "cell_type": "code",
   "execution_count": 0,
   "metadata": {
    "colab": {
     "base_uri": "https://localhost:8080/",
     "height": 146
    },
    "colab_type": "code",
    "id": "2PpRA9SnZNJ7",
    "outputId": "b558aadf-a3b5-4509-d896-fa749f5a8e2a"
   },
   "outputs": [
    {
     "name": "stderr",
     "output_type": "stream",
     "text": [
      "/usr/local/lib/python3.6/dist-packages/ipykernel_launcher.py:2: UserWarning: The `nb_epoch` argument in `fit` has been renamed `epochs`.\n",
      "  \n"
     ]
    },
    {
     "name": "stdout",
     "output_type": "stream",
     "text": [
      "Train on 9708 samples, validate on 2427 samples\n",
      "Epoch 1/1\n",
      "9708/9708 [==============================] - 117s 12ms/step - loss: 0.0128 - acc: 0.9979 - val_loss: 0.3685 - val_acc: 0.9065\n"
     ]
    },
    {
     "data": {
      "text/plain": [
       "<keras.callbacks.History at 0x7f93ecdc7a58>"
      ]
     },
     "execution_count": 40,
     "metadata": {
      "tags": []
     },
     "output_type": "execute_result"
    }
   ],
   "source": [
    "model.fit(X_train, y_train, batch_size=32,\n",
    "              nb_epoch=1,validation_data=(X_val, y_val), shuffle=True)"
   ]
  },
  {
   "cell_type": "code",
   "execution_count": 0,
   "metadata": {
    "colab": {
     "base_uri": "https://localhost:8080/",
     "height": 146
    },
    "colab_type": "code",
    "id": "QlE0fioBbKwp",
    "outputId": "35866b1d-d0ad-4653-935a-cecea8d7e114"
   },
   "outputs": [
    {
     "name": "stderr",
     "output_type": "stream",
     "text": [
      "/usr/local/lib/python3.6/dist-packages/ipykernel_launcher.py:2: UserWarning: The `nb_epoch` argument in `fit` has been renamed `epochs`.\n",
      "  \n"
     ]
    },
    {
     "name": "stdout",
     "output_type": "stream",
     "text": [
      "Train on 9708 samples, validate on 2427 samples\n",
      "Epoch 1/1\n",
      "9708/9708 [==============================] - 118s 12ms/step - loss: 0.0117 - acc: 0.9981 - val_loss: 0.3665 - val_acc: 0.9065\n"
     ]
    },
    {
     "data": {
      "text/plain": [
       "<keras.callbacks.History at 0x7f93ecdc74e0>"
      ]
     },
     "execution_count": 41,
     "metadata": {
      "tags": []
     },
     "output_type": "execute_result"
    }
   ],
   "source": [
    "model.fit(X_train, y_train, batch_size=32,\n",
    "              nb_epoch=1,validation_data=(X_val, y_val), shuffle=True)"
   ]
  },
  {
   "cell_type": "code",
   "execution_count": 0,
   "metadata": {
    "colab": {},
    "colab_type": "code",
    "id": "am6Vr_k6bwEo"
   },
   "outputs": [],
   "source": [
    "model.save('abc.h5')"
   ]
  },
  {
   "cell_type": "code",
   "execution_count": 0,
   "metadata": {
    "colab": {
     "base_uri": "https://localhost:8080/",
     "height": 54
    },
    "colab_type": "code",
    "id": "Qm46pdm_cSIB",
    "outputId": "104c76d7-fb80-485b-9e93-f46b8e8d9275"
   },
   "outputs": [
    {
     "name": "stdout",
     "output_type": "stream",
     "text": [
      "CHANGELOG.md  dataset.zip  Dockerfile.pi\tdropShell.sh  README.md\n",
      "dataset       Dockerfile   dropbox_uploader.sh\tLICENSE       testUnit.sh\n"
     ]
    }
   ],
   "source": [
    "!ls"
   ]
  },
  {
   "cell_type": "code",
   "execution_count": 0,
   "metadata": {
    "colab": {
     "base_uri": "https://localhost:8080/",
     "height": 35
    },
    "colab_type": "code",
    "id": "CETD8T4fcXk6",
    "outputId": "8ed54a53-9de0-46d9-d761-886a446d29b0"
   },
   "outputs": [
    {
     "name": "stdout",
     "output_type": "stream",
     "text": [
      " > Uploading \"/content/Dropbox-Uploader/dataset/abc.h5\" to \"/abc.h5\"... DONE\n"
     ]
    }
   ],
   "source": [
    "! ./dropbox_uploader.sh upload /content/Dropbox-Uploader/dataset/abc.h5 ./abc.h5"
   ]
  },
  {
   "cell_type": "code",
   "execution_count": 0,
   "metadata": {
    "colab": {
     "base_uri": "https://localhost:8080/",
     "height": 54
    },
    "colab_type": "code",
    "id": "H2SM9U2mdERv",
    "outputId": "0d3a3b5d-30f0-4f19-cd0a-9fef181ca293"
   },
   "outputs": [
    {
     "name": "stdout",
     "output_type": "stream",
     "text": [
      "9708/9708 [==============================] - 35s 4ms/step\n",
      "0.999896992171405\n"
     ]
    }
   ],
   "source": [
    "res=model.predict(X_train,verbose=1)\n",
    "# Top 1 train accuracy\n",
    "dem=0\n",
    "for i in range(res.shape[0]):\n",
    "  if (np.argmax(res[i])==np.argmax(y_train[i])): dem=dem+1\n",
    "print(dem/res.shape[0])\n"
   ]
  },
  {
   "cell_type": "code",
   "execution_count": 0,
   "metadata": {
    "colab": {
     "base_uri": "https://localhost:8080/",
     "height": 35
    },
    "colab_type": "code",
    "id": "jcGx34otdGsJ",
    "outputId": "b7208e38-e60e-4ab7-84ae-27de1c8a6106"
   },
   "outputs": [
    {
     "name": "stdout",
     "output_type": "stream",
     "text": [
      "1.0\n"
     ]
    }
   ],
   "source": [
    "# Top 3 train accuracy\n",
    "dem=0\n",
    "for i in range(res.shape[0]):\n",
    "  if (np.argmax(y_train[i]) in res[i].argsort()[-3:]): dem=dem+1\n",
    "print(dem/res.shape[0])"
   ]
  },
  {
   "cell_type": "code",
   "execution_count": 0,
   "metadata": {
    "colab": {
     "base_uri": "https://localhost:8080/",
     "height": 54
    },
    "colab_type": "code",
    "id": "wSqILq0OdLs7",
    "outputId": "ece70da3-d220-4056-be8a-2e0cf9839642"
   },
   "outputs": [
    {
     "name": "stdout",
     "output_type": "stream",
     "text": [
      "2427/2427 [==============================] - 8s 3ms/step\n",
      "0.9064688916357643\n"
     ]
    }
   ],
   "source": [
    "res=model.predict(X_val,verbose=1)\n",
    "# Top 1 validation accuracy\n",
    "dem=0\n",
    "for i in range(res.shape[0]):\n",
    "  if (np.argmax(res[i])==np.argmax(y_val[i])): dem=dem+1\n",
    "print(dem/res.shape[0])"
   ]
  },
  {
   "cell_type": "code",
   "execution_count": 0,
   "metadata": {
    "colab": {
     "base_uri": "https://localhost:8080/",
     "height": 35
    },
    "colab_type": "code",
    "id": "fIVbgChXd25X",
    "outputId": "b7c2e51b-89bc-4ab2-87fd-b5b27db21775"
   },
   "outputs": [
    {
     "name": "stdout",
     "output_type": "stream",
     "text": [
      "0.9765142150803461\n"
     ]
    }
   ],
   "source": [
    "# Top 3 validation accuracy\n",
    "dem=0\n",
    "for i in range(res.shape[0]):\n",
    "  if (np.argmax(y_val[i]) in res[i].argsort()[-3:]): dem=dem+1\n",
    "print(dem/res.shape[0])"
   ]
  },
  {
   "cell_type": "code",
   "execution_count": 0,
   "metadata": {
    "colab": {},
    "colab_type": "code",
    "id": "CPPzjBb-d7uZ"
   },
   "outputs": [],
   "source": []
  }
 ],
 "metadata": {
  "accelerator": "GPU",
  "colab": {
   "collapsed_sections": [],
   "name": "MobileNet.ipynb",
   "provenance": [],
   "version": "0.3.2"
  },
  "kernelspec": {
   "display_name": "Python 3",
   "language": "python",
   "name": "python3"
  },
  "language_info": {
   "codemirror_mode": {
    "name": "ipython",
    "version": 3
   },
   "file_extension": ".py",
   "mimetype": "text/x-python",
   "name": "python",
   "nbconvert_exporter": "python",
   "pygments_lexer": "ipython3",
   "version": "3.5.2"
  }
 },
 "nbformat": 4,
 "nbformat_minor": 1
}
