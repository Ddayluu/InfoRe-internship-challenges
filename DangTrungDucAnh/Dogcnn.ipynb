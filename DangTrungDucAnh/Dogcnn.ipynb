{
  "nbformat": 4,
  "nbformat_minor": 0,
  "metadata": {
    "colab": {
      "name": "Dogcnn.ipynb",
      "version": "0.3.2",
      "provenance": [],
      "collapsed_sections": []
    },
    "kernelspec": {
      "display_name": "Python 3",
      "language": "python",
      "name": "python3"
    },
    "accelerator": "GPU"
  },
  "cells": [
    {
      "metadata": {
        "colab_type": "code",
        "id": "_ni_KHGAUKOQ",
        "outputId": "b1f8f17e-e54e-4779-e884-db4831f34c6f",
        "colab": {
          "base_uri": "https://localhost:8080/",
          "height": 35
        }
      },
      "cell_type": "code",
      "source": [
        "import numpy as np\n",
        "import keras\n",
        "import cv2\n",
        "import glob\n",
        "import functools\n",
        "\n",
        "from keras.models import Sequential, Model\n",
        "from keras.layers import Dense, Dropout, Activation, Flatten\n",
        "from keras.layers import Convolution2D, MaxPooling2D\n",
        "from keras.optimizers import Adam\n",
        "from keras.utils import np_utils\n",
        "\n",
        "from sklearn.model_selection import train_test_split\n",
        "\n",
        "from PIL import Image as PImage\n",
        "\n",
        "from os import listdir\n",
        "\n"
      ],
      "execution_count": 1,
      "outputs": [
        {
          "output_type": "stream",
          "text": [
            "Using TensorFlow backend.\n"
          ],
          "name": "stderr"
        }
      ]
    },
    {
      "metadata": {
        "id": "bAXf0FAO87ES",
        "colab_type": "code",
        "outputId": "f1f9144c-7c0c-4977-ee15-450dd2567327",
        "colab": {
          "base_uri": "https://localhost:8080/",
          "height": 175
        }
      },
      "cell_type": "code",
      "source": [
        "from google.colab import drive\n",
        "drive.mount('/content/drive')\n",
        "!ls \"/content/drive/My Drive\""
      ],
      "execution_count": 2,
      "outputs": [
        {
          "output_type": "stream",
          "text": [
            "Go to this URL in a browser: https://accounts.google.com/o/oauth2/auth?client_id=947318989803-6bn6qk8qdgf4n4g3pfee6491hc0brc4i.apps.googleusercontent.com&redirect_uri=urn%3Aietf%3Awg%3Aoauth%3A2.0%3Aoob&scope=email%20https%3A%2F%2Fwww.googleapis.com%2Fauth%2Fdocs.test%20https%3A%2F%2Fwww.googleapis.com%2Fauth%2Fdrive%20https%3A%2F%2Fwww.googleapis.com%2Fauth%2Fdrive.photos.readonly%20https%3A%2F%2Fwww.googleapis.com%2Fauth%2Fpeopleapi.readonly&response_type=code\n",
            "\n",
            "Enter your authorization code:\n",
            "··········\n",
            "Mounted at /content/drive\n",
            " colab\t\t\t\t\t    findapp.gsheet\n",
            "'Copy of DK - Big ideas simply explained'  'Untitled presentation.gslides'\n",
            " dataset\n"
          ],
          "name": "stdout"
        }
      ]
    },
    {
      "metadata": {
        "colab_type": "code",
        "id": "14WYTh8lBv2J",
        "colab": {}
      },
      "cell_type": "code",
      "source": [
        ""
      ],
      "execution_count": 0,
      "outputs": []
    },
    {
      "metadata": {
        "colab_type": "code",
        "id": "6n_a9NyeVqpL",
        "colab": {}
      },
      "cell_type": "code",
      "source": [
        "data = np.load(\"/content/drive/My Drive/colab/data224.npy\")\n",
        "labels = np.load(\"/content/drive/My Drive/colab/label.npy\")\n"
      ],
      "execution_count": 0,
      "outputs": []
    },
    {
      "metadata": {
        "colab_type": "code",
        "id": "mbnV21uIfpsK",
        "colab": {}
      },
      "cell_type": "code",
      "source": [
        "labels = keras.utils.to_categorical(labels,10)"
      ],
      "execution_count": 0,
      "outputs": []
    },
    {
      "metadata": {
        "colab_type": "code",
        "id": "tf6Tl4elWs5m",
        "colab": {}
      },
      "cell_type": "code",
      "source": [
        "(trainX, testX, trainY, testY) = train_test_split(np.array(data),np.array(labels), test_size=0.25)"
      ],
      "execution_count": 0,
      "outputs": []
    },
    {
      "metadata": {
        "colab_type": "code",
        "id": "f8YapE7Qfbbb",
        "outputId": "26350cb3-b721-4fa5-939f-f9966eb99fcc",
        "colab": {
          "base_uri": "https://localhost:8080/",
          "height": 1019
        }
      },
      "cell_type": "code",
      "source": [
        "vgg = keras.applications.vgg16.VGG16(include_top=True, weights=\"imagenet\")\n",
        "\n",
        "for layer in vgg.layers:\n",
        "  layer.trainable = False\n",
        "  \n",
        "softmax = Dense(10,activation='softmax')(vgg.layers[-2].output)\n",
        "\n",
        "model = Model(vgg.input,softmax)\n",
        "model.summary()"
      ],
      "execution_count": 6,
      "outputs": [
        {
          "output_type": "stream",
          "text": [
            "WARNING:tensorflow:From /usr/local/lib/python3.6/dist-packages/tensorflow/python/framework/op_def_library.py:263: colocate_with (from tensorflow.python.framework.ops) is deprecated and will be removed in a future version.\n",
            "Instructions for updating:\n",
            "Colocations handled automatically by placer.\n",
            "Downloading data from https://github.com/fchollet/deep-learning-models/releases/download/v0.1/vgg16_weights_tf_dim_ordering_tf_kernels.h5\n",
            "553467904/553467096 [==============================] - 21s 0us/step\n",
            "_________________________________________________________________\n",
            "Layer (type)                 Output Shape              Param #   \n",
            "=================================================================\n",
            "input_1 (InputLayer)         (None, 224, 224, 3)       0         \n",
            "_________________________________________________________________\n",
            "block1_conv1 (Conv2D)        (None, 224, 224, 64)      1792      \n",
            "_________________________________________________________________\n",
            "block1_conv2 (Conv2D)        (None, 224, 224, 64)      36928     \n",
            "_________________________________________________________________\n",
            "block1_pool (MaxPooling2D)   (None, 112, 112, 64)      0         \n",
            "_________________________________________________________________\n",
            "block2_conv1 (Conv2D)        (None, 112, 112, 128)     73856     \n",
            "_________________________________________________________________\n",
            "block2_conv2 (Conv2D)        (None, 112, 112, 128)     147584    \n",
            "_________________________________________________________________\n",
            "block2_pool (MaxPooling2D)   (None, 56, 56, 128)       0         \n",
            "_________________________________________________________________\n",
            "block3_conv1 (Conv2D)        (None, 56, 56, 256)       295168    \n",
            "_________________________________________________________________\n",
            "block3_conv2 (Conv2D)        (None, 56, 56, 256)       590080    \n",
            "_________________________________________________________________\n",
            "block3_conv3 (Conv2D)        (None, 56, 56, 256)       590080    \n",
            "_________________________________________________________________\n",
            "block3_pool (MaxPooling2D)   (None, 28, 28, 256)       0         \n",
            "_________________________________________________________________\n",
            "block4_conv1 (Conv2D)        (None, 28, 28, 512)       1180160   \n",
            "_________________________________________________________________\n",
            "block4_conv2 (Conv2D)        (None, 28, 28, 512)       2359808   \n",
            "_________________________________________________________________\n",
            "block4_conv3 (Conv2D)        (None, 28, 28, 512)       2359808   \n",
            "_________________________________________________________________\n",
            "block4_pool (MaxPooling2D)   (None, 14, 14, 512)       0         \n",
            "_________________________________________________________________\n",
            "block5_conv1 (Conv2D)        (None, 14, 14, 512)       2359808   \n",
            "_________________________________________________________________\n",
            "block5_conv2 (Conv2D)        (None, 14, 14, 512)       2359808   \n",
            "_________________________________________________________________\n",
            "block5_conv3 (Conv2D)        (None, 14, 14, 512)       2359808   \n",
            "_________________________________________________________________\n",
            "block5_pool (MaxPooling2D)   (None, 7, 7, 512)         0         \n",
            "_________________________________________________________________\n",
            "flatten (Flatten)            (None, 25088)             0         \n",
            "_________________________________________________________________\n",
            "fc1 (Dense)                  (None, 4096)              102764544 \n",
            "_________________________________________________________________\n",
            "fc2 (Dense)                  (None, 4096)              16781312  \n",
            "_________________________________________________________________\n",
            "dense_1 (Dense)              (None, 10)                40970     \n",
            "=================================================================\n",
            "Total params: 134,301,514\n",
            "Trainable params: 40,970\n",
            "Non-trainable params: 134,260,544\n",
            "_________________________________________________________________\n"
          ],
          "name": "stdout"
        }
      ]
    },
    {
      "metadata": {
        "colab_type": "code",
        "id": "fiTAOQ8MlWfP",
        "colab": {
          "base_uri": "https://localhost:8080/",
          "height": 259
        },
        "outputId": "dcaa63eb-ee9e-4404-8050-1b0f69d45c3f"
      },
      "cell_type": "code",
      "source": [
        "\n",
        "top3_acc = functools.partial(keras.metrics.top_k_categorical_accuracy, k=3)\n",
        "top3_acc.__name__ = 'top3_acc'\n",
        "\n",
        "top1_acc = functools.partial(keras.metrics.top_k_categorical_accuracy, k=1)\n",
        "top1_acc.__name__ = 'top1_acc'\n",
        "\n",
        "model.compile(loss=\"categorical_crossentropy\", optimizer='Adam',\n",
        "\tmetrics=[\"accuracy\",top3_acc, top1_acc])\n",
        "\n",
        "H = model.fit(trainX, trainY, validation_data=(testX, testY),\n",
        "epochs=5, batch_size=32)"
      ],
      "execution_count": 7,
      "outputs": [
        {
          "output_type": "stream",
          "text": [
            "WARNING:tensorflow:From /usr/local/lib/python3.6/dist-packages/tensorflow/python/ops/math_ops.py:3066: to_int32 (from tensorflow.python.ops.math_ops) is deprecated and will be removed in a future version.\n",
            "Instructions for updating:\n",
            "Use tf.cast instead.\n",
            "Train on 9101 samples, validate on 3034 samples\n",
            "Epoch 1/5\n",
            "9101/9101 [==============================] - 125s 14ms/step - loss: 0.5327 - acc: 0.8678 - top3_acc: 0.9628 - top1_acc: 0.8678 - val_loss: 0.4433 - val_acc: 0.8889 - val_top3_acc: 0.9753 - val_top1_acc: 0.8889\n",
            "Epoch 2/5\n",
            "9101/9101 [==============================] - 115s 13ms/step - loss: 0.2573 - acc: 0.9288 - top3_acc: 0.9885 - top1_acc: 0.9288 - val_loss: 0.4372 - val_acc: 0.8909 - val_top3_acc: 0.9799 - val_top1_acc: 0.8909\n",
            "Epoch 3/5\n",
            "9101/9101 [==============================] - 115s 13ms/step - loss: 0.1436 - acc: 0.9548 - top3_acc: 0.9957 - top1_acc: 0.9548 - val_loss: 0.6075 - val_acc: 0.8754 - val_top3_acc: 0.9723 - val_top1_acc: 0.8754\n",
            "Epoch 4/5\n",
            "9101/9101 [==============================] - 115s 13ms/step - loss: 0.0864 - acc: 0.9701 - top3_acc: 0.9987 - top1_acc: 0.9701 - val_loss: 0.4536 - val_acc: 0.8968 - val_top3_acc: 0.9779 - val_top1_acc: 0.8968\n",
            "Epoch 5/5\n",
            "9101/9101 [==============================] - 115s 13ms/step - loss: 0.0470 - acc: 0.9827 - top3_acc: 0.9996 - top1_acc: 0.9827 - val_loss: 0.4617 - val_acc: 0.9018 - val_top3_acc: 0.9792 - val_top1_acc: 0.9018\n"
          ],
          "name": "stdout"
        }
      ]
    },
    {
      "metadata": {
        "id": "mq-g__FNZwAH",
        "colab_type": "code",
        "colab": {}
      },
      "cell_type": "code",
      "source": [
        ""
      ],
      "execution_count": 0,
      "outputs": []
    }
  ]
}