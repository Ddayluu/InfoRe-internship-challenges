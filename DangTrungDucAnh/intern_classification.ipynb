{
  "nbformat": 4,
  "nbformat_minor": 0,
  "metadata": {
    "colab": {
      "name": "word_embadding.ipynb",
      "version": "0.3.2",
      "provenance": []
    },
    "kernelspec": {
      "name": "python3",
      "display_name": "Python 3"
    },
    "accelerator": "GPU"
  },
  "cells": [
    {
      "metadata": {
        "id": "-ylaRwt50rNl",
        "colab_type": "code",
        "outputId": "5f033cc9-ae8e-4bd4-87b1-052d9cfbc961",
        "colab": {
          "base_uri": "https://localhost:8080/",
          "height": 35
        }
      },
      "cell_type": "code",
      "source": [
        "import numpy as np\n",
        "import pandas as pd\n",
        "from os import listdir\n",
        "import keras\n",
        "\n",
        "\n",
        "from sklearn.feature_extraction.text import CountVectorizer\n",
        "from sklearn.model_selection import train_test_split\n",
        "from sklearn.linear_model import LogisticRegression"
      ],
      "execution_count": 0,
      "outputs": [
        {
          "output_type": "stream",
          "text": [
            "Using TensorFlow backend.\n"
          ],
          "name": "stderr"
        }
      ]
    },
    {
      "metadata": {
        "id": "Frh06yfV02hS",
        "colab_type": "code",
        "outputId": "4c27d053-0400-4fef-b5ba-bf4f9fa528c4",
        "colab": {
          "base_uri": "https://localhost:8080/",
          "height": 211
        }
      },
      "cell_type": "code",
      "source": [
        "from google.colab import drive\n",
        "drive.mount('/content/drive')\n",
        "!ls \"/content/drive/My Drive\""
      ],
      "execution_count": 0,
      "outputs": [
        {
          "output_type": "stream",
          "text": [
            "Go to this URL in a browser: https://accounts.google.com/o/oauth2/auth?client_id=947318989803-6bn6qk8qdgf4n4g3pfee6491hc0brc4i.apps.googleusercontent.com&redirect_uri=urn%3Aietf%3Awg%3Aoauth%3A2.0%3Aoob&scope=email%20https%3A%2F%2Fwww.googleapis.com%2Fauth%2Fdocs.test%20https%3A%2F%2Fwww.googleapis.com%2Fauth%2Fdrive%20https%3A%2F%2Fwww.googleapis.com%2Fauth%2Fdrive.photos.readonly%20https%3A%2F%2Fwww.googleapis.com%2Fauth%2Fpeopleapi.readonly&response_type=code\n",
            "\n",
            "Enter your authorization code:\n",
            "··········\n",
            "Mounted at /content/drive\n",
            " colab\t\t\t\t\t    dictionary.gsheet\n",
            "'Copy of dictionary.gsheet'\t\t    Dictionary.ipynb\n",
            "'Copy of DK - Big ideas simply explained'   findapp.gsheet\n",
            " dataset\t\t\t\t    sentence_classification\n",
            " data.txt\t\t\t\t   'Untitled presentation.gslides'\n"
          ],
          "name": "stdout"
        }
      ]
    },
    {
      "metadata": {
        "id": "u5DaTVQ20rOB",
        "colab_type": "code",
        "colab": {}
      },
      "cell_type": "code",
      "source": [
        "b =['SearchCreativeWork','GetWeather','BookRestaurant','PlayMusic',\n",
        "    'AddToPlaylist','RateBook','SearchScreeningEvent']"
      ],
      "execution_count": 0,
      "outputs": []
    },
    {
      "metadata": {
        "id": "0ru52wME0rOM",
        "colab_type": "code",
        "outputId": "bf957691-6512-4410-94c2-f9a97864cd67",
        "colab": {
          "base_uri": "https://localhost:8080/",
          "height": 139
        }
      },
      "cell_type": "code",
      "source": [
        "data=[]\n",
        "for i in range(len(b)):\n",
        "    path = '/content/drive/My Drive/sentence_classification/data/'+b[i]+'.txt'\n",
        "    df = pd.read_csv(path,names=['sentence'],sep='\\n')\n",
        "    df['lables'] = i\n",
        "    print('read',len(df),\"file from\",b[i],'.txt')\n",
        "    data.append(df)\n",
        "data = pd.concat(data)"
      ],
      "execution_count": 0,
      "outputs": [
        {
          "output_type": "stream",
          "text": [
            "read 1954 file from SearchCreativeWork .txt\n",
            "read 2001 file from GetWeather .txt\n",
            "read 1973 file from BookRestaurant .txt\n",
            "read 2000 file from PlayMusic .txt\n",
            "read 1943 file from AddToPlaylist .txt\n",
            "read 1971 file from RateBook .txt\n",
            "read 1960 file from SearchScreeningEvent .txt\n"
          ],
          "name": "stdout"
        }
      ]
    },
    {
      "metadata": {
        "colab_type": "code",
        "id": "-OzrYKPLCOjX",
        "colab": {}
      },
      "cell_type": "code",
      "source": [
        "labels = data['lables'].values\n",
        "sentence = data['sentence'].values"
      ],
      "execution_count": 0,
      "outputs": []
    },
    {
      "metadata": {
        "id": "XeBKX-v_VA7L",
        "colab_type": "code",
        "colab": {}
      },
      "cell_type": "code",
      "source": [
        "labels = keras.utils.to_categorical(labels,len(b))"
      ],
      "execution_count": 0,
      "outputs": []
    },
    {
      "metadata": {
        "id": "-6eLRlhZ0rP1",
        "colab_type": "code",
        "colab": {}
      },
      "cell_type": "code",
      "source": [
        "sentences_train,sentences_test,y_train,y_test = train_test_split(sentence,labels,test_size=0.25,random_state=13)"
      ],
      "execution_count": 0,
      "outputs": []
    },
    {
      "metadata": {
        "id": "j8Mx0K_0Ku2Z",
        "colab_type": "code",
        "outputId": "c746cfb9-0a78-4728-fbe5-42603a776817",
        "colab": {
          "base_uri": "https://localhost:8080/",
          "height": 52
        }
      },
      "cell_type": "code",
      "source": [
        "from keras.preprocessing.text import Tokenizer\n",
        "\n",
        "tokenizer = Tokenizer(num_words=5000)\n",
        "tokenizer.fit_on_texts(sentences_train)\n",
        "\n",
        "X_train = tokenizer.texts_to_sequences(sentences_train)\n",
        "X_test = tokenizer.texts_to_sequences(sentences_test)\n",
        "\n",
        "vocab_size = len(tokenizer.word_index) + 1  # Adding 1 because of reserved 0 index\n",
        "\n",
        "print(sentences_train[0])\n",
        "print(X_train[0])"
      ],
      "execution_count": 0,
      "outputs": [
        {
          "output_type": "stream",
          "text": [
            "rate this book one for this stars judging\n",
            "[23, 21, 11, 53, 5, 21, 38, 3748]\n"
          ],
          "name": "stdout"
        }
      ]
    },
    {
      "metadata": {
        "id": "S3XshM6mLfQ6",
        "colab_type": "code",
        "outputId": "ac963ccf-d598-4cb8-d366-7bfac24bc025",
        "colab": {
          "base_uri": "https://localhost:8080/",
          "height": 156
        }
      },
      "cell_type": "code",
      "source": [
        "from keras.preprocessing.sequence import pad_sequences\n",
        "\n",
        "maxlen = 100\n",
        "\n",
        "X_train = pad_sequences(X_train, padding='post', maxlen=maxlen)\n",
        "X_test = pad_sequences(X_test, padding='post', maxlen=maxlen)\n",
        "\n",
        "print(X_train[1])"
      ],
      "execution_count": 0,
      "outputs": [
        {
          "output_type": "stream",
          "text": [
            "[  28   16    1   54    6   19    1  619 3749 3750    0    0    0    0\n",
            "    0    0    0    0    0    0    0    0    0    0    0    0    0    0\n",
            "    0    0    0    0    0    0    0    0    0    0    0    0    0    0\n",
            "    0    0    0    0    0    0    0    0    0    0    0    0    0    0\n",
            "    0    0    0    0    0    0    0    0    0    0    0    0    0    0\n",
            "    0    0    0    0    0    0    0    0    0    0    0    0    0    0\n",
            "    0    0    0    0    0    0    0    0    0    0    0    0    0    0\n",
            "    0    0]\n"
          ],
          "name": "stdout"
        }
      ]
    },
    {
      "metadata": {
        "id": "Hr_FiR8hRDmw",
        "colab_type": "code",
        "colab": {}
      },
      "cell_type": "code",
      "source": [
        "import numpy as np\n",
        "\n",
        "def create_embedding_matrix(filepath, word_index, embedding_dim):\n",
        "    vocab_size = len(word_index) + 1  # Adding again 1 because of reserved 0 index\n",
        "    embedding_matrix = np.zeros((vocab_size, embedding_dim))\n",
        "\n",
        "    with open(filepath,encoding=\"utf-8\") as f:\n",
        "        for line in f:\n",
        "            word, *vector = line.split()\n",
        "            if word in word_index:\n",
        "                idx = word_index[word] \n",
        "                embedding_matrix[idx] = np.array(\n",
        "                    vector, dtype=np.float32)[:embedding_dim]\n",
        "\n",
        "    return embedding_matrix"
      ],
      "execution_count": 0,
      "outputs": []
    },
    {
      "metadata": {
        "id": "lv_otDCrPW3b",
        "colab_type": "code",
        "outputId": "a14b1336-ba5d-48bc-97c6-5a19875b379f",
        "colab": {
          "base_uri": "https://localhost:8080/",
          "height": 89
        }
      },
      "cell_type": "code",
      "source": [
        "embedding_dim = 50\n",
        "embedding_matrix = create_embedding_matrix('/content/drive/My Drive/sentence_classification/glove.6B.50d.txt', \n",
        "                                           tokenizer.word_index, embedding_dim)\n",
        "from keras.models import Sequential\n",
        "\n",
        "from keras import layers\n",
        "\n",
        "model = Sequential()\n",
        "model.add(layers.Embedding(vocab_size, embedding_dim, \n",
        "                           weights=[embedding_matrix], \n",
        "                           input_length=maxlen, \n",
        "                           trainable=False))\n",
        "model.add(layers.Conv1D(128, 5, activation='relu'))\n",
        "model.add(layers.GlobalMaxPool1D())\n",
        "model.add(layers.Dense(10, activation='relu'))\n",
        "model.add(layers.Dense(7, activation='sigmoid'))\n"
      ],
      "execution_count": 0,
      "outputs": [
        {
          "output_type": "stream",
          "text": [
            "WARNING:tensorflow:From /usr/local/lib/python3.6/dist-packages/tensorflow/python/framework/op_def_library.py:263: colocate_with (from tensorflow.python.framework.ops) is deprecated and will be removed in a future version.\n",
            "Instructions for updating:\n",
            "Colocations handled automatically by placer.\n"
          ],
          "name": "stdout"
        }
      ]
    },
    {
      "metadata": {
        "id": "1VPf-q-7ZnSp",
        "colab_type": "code",
        "outputId": "dc62d8ac-0cc2-4ce3-8fed-ac205fbaed2a",
        "colab": {
          "base_uri": "https://localhost:8080/",
          "height": 312
        }
      },
      "cell_type": "code",
      "source": [
        "import functools\n",
        "\n",
        "top3_acc = functools.partial(keras.metrics.top_k_categorical_accuracy, k=3)\n",
        "top3_acc.__name__ = 'top3_acc'\n",
        "\n",
        "top1_acc = functools.partial(keras.metrics.top_k_categorical_accuracy, k=1)\n",
        "top1_acc.__name__ = 'top1_acc'\n",
        "\n",
        "model.compile(optimizer='adam',\n",
        "              loss=\"binary_crossentropy\", #'binary_crossentropy',\n",
        "              metrics=[\"accuracy\",top3_acc])\n",
        "model.summary()"
      ],
      "execution_count": 0,
      "outputs": [
        {
          "output_type": "stream",
          "text": [
            "_________________________________________________________________\n",
            "Layer (type)                 Output Shape              Param #   \n",
            "=================================================================\n",
            "embedding_1 (Embedding)      (None, 100, 50)           485700    \n",
            "_________________________________________________________________\n",
            "conv1d_1 (Conv1D)            (None, 96, 128)           32128     \n",
            "_________________________________________________________________\n",
            "global_max_pooling1d_1 (Glob (None, 128)               0         \n",
            "_________________________________________________________________\n",
            "dense_1 (Dense)              (None, 10)                1290      \n",
            "_________________________________________________________________\n",
            "dense_2 (Dense)              (None, 7)                 77        \n",
            "=================================================================\n",
            "Total params: 519,195\n",
            "Trainable params: 33,495\n",
            "Non-trainable params: 485,700\n",
            "_________________________________________________________________\n"
          ],
          "name": "stdout"
        }
      ]
    },
    {
      "metadata": {
        "id": "3j5kp3pcPW2Y",
        "colab_type": "code",
        "outputId": "d13b7979-b681-49f3-d097-d302cd9aa07a",
        "colab": {
          "base_uri": "https://localhost:8080/",
          "height": 332
        }
      },
      "cell_type": "code",
      "source": [
        "history = model.fit(X_train, y_train,\n",
        "                    epochs=5,\n",
        "                    verbose=True,\n",
        "                    validation_data=(X_test, y_test),\n",
        "                    batch_size=10)\n"
      ],
      "execution_count": 0,
      "outputs": [
        {
          "output_type": "stream",
          "text": [
            "WARNING:tensorflow:From /usr/local/lib/python3.6/dist-packages/tensorflow/python/ops/math_ops.py:3066: to_int32 (from tensorflow.python.ops.math_ops) is deprecated and will be removed in a future version.\n",
            "Instructions for updating:\n",
            "Use tf.cast instead.\n",
            "WARNING:tensorflow:From /usr/local/lib/python3.6/dist-packages/tensorflow/python/ops/math_grad.py:102: div (from tensorflow.python.ops.math_ops) is deprecated and will be removed in a future version.\n",
            "Instructions for updating:\n",
            "Deprecated in favor of operator or tf.math.divide.\n",
            "Train on 10351 samples, validate on 3451 samples\n",
            "Epoch 1/5\n",
            "10351/10351 [==============================] - 10s 940us/step - loss: 0.1186 - acc: 0.9577 - top3_acc: 0.9637 - val_loss: 0.0386 - val_acc: 0.9877 - val_top3_acc: 0.9962\n",
            "Epoch 2/5\n",
            "10351/10351 [==============================] - 7s 653us/step - loss: 0.0296 - acc: 0.9911 - top3_acc: 0.9987 - val_loss: 0.0269 - val_acc: 0.9904 - val_top3_acc: 0.9983\n",
            "Epoch 3/5\n",
            "10351/10351 [==============================] - 7s 656us/step - loss: 0.0173 - acc: 0.9945 - top3_acc: 0.9997 - val_loss: 0.0238 - val_acc: 0.9921 - val_top3_acc: 0.9988\n",
            "Epoch 4/5\n",
            "10351/10351 [==============================] - 7s 659us/step - loss: 0.0100 - acc: 0.9973 - top3_acc: 0.9998 - val_loss: 0.0258 - val_acc: 0.9911 - val_top3_acc: 0.9977\n",
            "Epoch 5/5\n",
            "10351/10351 [==============================] - 7s 648us/step - loss: 0.0065 - acc: 0.9981 - top3_acc: 0.9999 - val_loss: 0.0227 - val_acc: 0.9926 - val_top3_acc: 0.9986\n"
          ],
          "name": "stdout"
        }
      ]
    },
    {
      "metadata": {
        "id": "XBc5Qp-MnWv5",
        "colab_type": "code",
        "colab": {}
      },
      "cell_type": "code",
      "source": [
        ""
      ],
      "execution_count": 0,
      "outputs": []
    }
  ]
}