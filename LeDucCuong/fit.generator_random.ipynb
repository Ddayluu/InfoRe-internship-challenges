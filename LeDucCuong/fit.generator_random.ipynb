{
 "cells": [
  {
   "cell_type": "code",
   "execution_count": 1,
   "metadata": {
    "colab": {
     "base_uri": "https://localhost:8080/",
     "height": 35
    },
    "colab_type": "code",
    "id": "-BdxMhCm042E",
    "outputId": "73644ddb-78df-4ad7-99c4-9d45e876c881"
   },
   "outputs": [
    {
     "name": "stderr",
     "output_type": "stream",
     "text": [
      "Using TensorFlow backend.\n"
     ]
    }
   ],
   "source": [
    "# khai báo thư viện\n",
    "import tensorflow\n",
    "import tensorflow as tf\n",
    "import cv2\n",
    "import numpy\n",
    "import matplotlib.pyplot as plt\n",
    "import glob\n",
    "import PIL\n",
    "from keras.optimizers import Adam\n",
    "from sklearn.model_selection import train_test_split\n",
    "import keras\n",
    "from keras.models import Model\n",
    "from keras.models import Sequential,Model\n",
    "from keras.layers.normalization import BatchNormalization\n",
    "from keras.layers.convolutional import Conv2D\n",
    "from keras.layers.convolutional import MaxPooling2D\n",
    "from keras.layers.core import Activation\n",
    "from keras.layers.core import Flatten\n",
    "from keras.layers.core import Dropout\n",
    "from keras.layers.core import Dense\n",
    "classifier = Sequential()\n",
    "model = Sequential()"
   ]
  },
  {
   "cell_type": "code",
   "execution_count": 0,
   "metadata": {
    "colab": {},
    "colab_type": "code",
    "id": "_8EVelWZstFU"
   },
   "outputs": [],
   "source": [
    "import functools\n",
    "top3_acc = functools.partial(keras.metrics.top_k_categorical_accuracy, k=3)\n",
    "top1_acc = functools.partial(keras.metrics.top_k_categorical_accuracy, k=1)\n",
    "top3_acc.__name__ = 'top3_acc'\n",
    "top1_acc.__name__ = 'top1_acc'"
   ]
  },
  {
   "cell_type": "code",
   "execution_count": null,
   "metadata": {},
   "outputs": [],
   "source": [
    "from google.colab import drive\n",
    "drive.mount('/content/drive')"
   ]
  },
  {
   "cell_type": "code",
   "execution_count": 0,
   "metadata": {
    "colab": {},
    "colab_type": "code",
    "id": "G-7IE26Fcn4W"
   },
   "outputs": [],
   "source": [
    "#đọc đường dẫn của tất cả các ảnh\n",
    "link =[]\n",
    "label=[]\n",
    "i=0\n",
    "dog_name = [\"bullmastiff\",\"chowchow\",\"pug\",\"maltese\",\"huskysibir\",\"dachshund\",\"dalmatian\",\"corgi\",\"chihuahua\",\"yorkshire\"]\n",
    "for name in dog_name:\n",
    "    for file in glob.glob(\"/content/drive/My Drive/dataset/\" + name + \"/*JPEG\"):\n",
    "      link.append(file)\n",
    "      label.append(i)\n",
    "    i+=1"
   ]
  },
  {
   "cell_type": "code",
   "execution_count": 0,
   "metadata": {
    "colab": {},
    "colab_type": "code",
    "id": "dHQHIclFd3Z7"
   },
   "outputs": [],
   "source": [
    "#def generator\n",
    "def data_gen(link,label,size=10):\n",
    "  while True:\n",
    "    data=[]\n",
    "    lab=[]\n",
    "    index = numpy.random.choice(len(link),10)\n",
    "    for i in range(10):\n",
    "      img = cv2.imread(link[index[i]])\n",
    "      img = cv2.resize(img,(224,224))\n",
    "      data.append(img)\n",
    "      lab.append(label[index[i]])\n",
    "    batch_data = numpy.asarray(data, dtype=numpy.float32)\n",
    "    batch_label=tf.keras.utils.to_categorical(lab,num_classes=10)\n",
    "    yield (batch_data,batch_label)\n",
    "  "
   ]
  },
  {
   "cell_type": "code",
   "execution_count": 0,
   "metadata": {
    "colab": {},
    "colab_type": "code",
    "id": "JqoKKKIWopdz"
   },
   "outputs": [],
   "source": [
    "#chia link thành train_link và validation_link\n",
    "split = int(0.8*len(link))\n",
    "train_link=link[0:split]\n",
    "valid_link=link[split:]\n",
    "train_label=label[0:split]\n",
    "valid_label=label[split:]"
   ]
  },
  {
   "cell_type": "code",
   "execution_count": 0,
   "metadata": {
    "colab": {},
    "colab_type": "code",
    "id": "n8L-_O2mqBq-"
   },
   "outputs": [],
   "source": [
    "#mô hình\n",
    "vgg = keras.applications.vgg16.VGG16(include_top=True,weights=\"imagenet\")\n",
    "for layer in vgg.layers:\n",
    "  layer.trainable = False\n",
    "\n",
    "softmax = Dense(10,activation='softmax')(vgg.layers[-2].output)\n",
    "\n",
    "model = Model(vgg.input,softmax)\n",
    "model.summary()"
   ]
  },
  {
   "cell_type": "code",
   "execution_count": 0,
   "metadata": {
    "colab": {},
    "colab_type": "code",
    "id": "i14WWr7Tqfch"
   },
   "outputs": [],
   "source": [
    "train_step = len(train_link) // 10\n",
    "valid_step = len(valid_link) // 10"
   ]
  },
  {
   "cell_type": "code",
   "execution_count": 0,
   "metadata": {
    "colab": {},
    "colab_type": "code",
    "id": "e7kw6FSfq4ZY"
   },
   "outputs": [],
   "source": [
    "train_gen = data_gen(train_link,train_label,size=10)\n",
    "valid_gen = data_gen(valid_link,valid_label,size=10)"
   ]
  },
  {
   "cell_type": "code",
   "execution_count": 35,
   "metadata": {
    "colab": {
     "base_uri": "https://localhost:8080/",
     "height": 92
    },
    "colab_type": "code",
    "id": "L_V-Oj_TrXMj",
    "outputId": "37344557-a470-4a90-af16-ff41547d7cdf"
   },
   "outputs": [
    {
     "name": "stdout",
     "output_type": "stream",
     "text": [
      "[INFO] training network...\n",
      "Epoch 1/1\n",
      "902/902 [==============================] - 12075s 13s/step - loss: 0.4237 - top_k_categorical_accuracy: 0.9963 - top1_acc: 0.9190 - top3_acc: 0.9866 - val_loss: 1.5947 - val_top_k_categorical_accuracy: 0.9498 - val_top1_acc: 0.8329 - val_top3_acc: 0.9138\n"
     ]
    }
   ],
   "source": [
    "print(\"[INFO] training network...\")\n",
    "opt = Adam(lr=1e-3, decay=1e-3 / 50)\n",
    "model.compile(loss=\"categorical_crossentropy\", optimizer=opt,metrics=['top_k_categorical_accuracy',top1_acc,top3_acc])\n",
    "H = model.fit_generator(train_gen, validation_data=valid_gen, steps_per_epoch=train_step,validation_steps = valid_step,verbose=1,use_multiprocessing=True,epochs=1)"
   ]
  },
  {
   "cell_type": "code",
   "execution_count": 0,
   "metadata": {
    "colab": {},
    "colab_type": "code",
    "id": "Vvbhn6VJszqs"
   },
   "outputs": [],
   "source": []
  }
 ],
 "metadata": {
  "colab": {
   "name": "Untitled1.ipynb",
   "provenance": [],
   "version": "0.3.2"
  },
  "kernelspec": {
   "display_name": "Python 3",
   "language": "python",
   "name": "python3"
  },
  "language_info": {
   "codemirror_mode": {
    "name": "ipython",
    "version": 3
   },
   "file_extension": ".py",
   "mimetype": "text/x-python",
   "name": "python",
   "nbconvert_exporter": "python",
   "pygments_lexer": "ipython3",
   "version": "3.6.7"
  }
 },
 "nbformat": 4,
 "nbformat_minor": 1
}
